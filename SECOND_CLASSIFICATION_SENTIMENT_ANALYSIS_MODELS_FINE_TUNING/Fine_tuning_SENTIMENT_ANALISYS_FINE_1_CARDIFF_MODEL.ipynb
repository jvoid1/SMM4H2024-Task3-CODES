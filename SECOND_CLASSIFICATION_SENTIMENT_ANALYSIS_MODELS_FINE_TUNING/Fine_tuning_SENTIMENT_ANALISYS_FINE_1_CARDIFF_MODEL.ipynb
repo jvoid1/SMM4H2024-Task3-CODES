{
  "nbformat": 4,
  "nbformat_minor": 0,
  "metadata": {
    "colab": {
      "provenance": [],
      "gpuType": "T4"
    },
    "kernelspec": {
      "name": "python3",
      "display_name": "Python 3"
    },
    "language_info": {
      "name": "python"
    },
    "accelerator": "GPU",
    "widgets": {
      "application/vnd.jupyter.widget-state+json": {
        "bbcd989d566046ebb01e1767e5aae106": {
          "model_module": "@jupyter-widgets/controls",
          "model_name": "HBoxModel",
          "model_module_version": "1.5.0",
          "state": {
            "_dom_classes": [],
            "_model_module": "@jupyter-widgets/controls",
            "_model_module_version": "1.5.0",
            "_model_name": "HBoxModel",
            "_view_count": null,
            "_view_module": "@jupyter-widgets/controls",
            "_view_module_version": "1.5.0",
            "_view_name": "HBoxView",
            "box_style": "",
            "children": [
              "IPY_MODEL_4da6dfd878604947b99e472abb99b8d6",
              "IPY_MODEL_92d347a3266b42289561de3b97f58925",
              "IPY_MODEL_657d5845710142a39b41e53e4f8323a3"
            ],
            "layout": "IPY_MODEL_0d1e2fe29f0e4ff4acd69b81c1299b9c"
          }
        },
        "4da6dfd878604947b99e472abb99b8d6": {
          "model_module": "@jupyter-widgets/controls",
          "model_name": "HTMLModel",
          "model_module_version": "1.5.0",
          "state": {
            "_dom_classes": [],
            "_model_module": "@jupyter-widgets/controls",
            "_model_module_version": "1.5.0",
            "_model_name": "HTMLModel",
            "_view_count": null,
            "_view_module": "@jupyter-widgets/controls",
            "_view_module_version": "1.5.0",
            "_view_name": "HTMLView",
            "description": "",
            "description_tooltip": null,
            "layout": "IPY_MODEL_3667b58c8807465f9b2c6385000a8888",
            "placeholder": "​",
            "style": "IPY_MODEL_e03952d8dfd94697b556c3563db42968",
            "value": "Map: 100%"
          }
        },
        "92d347a3266b42289561de3b97f58925": {
          "model_module": "@jupyter-widgets/controls",
          "model_name": "FloatProgressModel",
          "model_module_version": "1.5.0",
          "state": {
            "_dom_classes": [],
            "_model_module": "@jupyter-widgets/controls",
            "_model_module_version": "1.5.0",
            "_model_name": "FloatProgressModel",
            "_view_count": null,
            "_view_module": "@jupyter-widgets/controls",
            "_view_module_version": "1.5.0",
            "_view_name": "ProgressView",
            "bar_style": "success",
            "description": "",
            "description_tooltip": null,
            "layout": "IPY_MODEL_132acd68c72e47ea98d6d325ce1a5bc4",
            "max": 535,
            "min": 0,
            "orientation": "horizontal",
            "style": "IPY_MODEL_cff745831acc43e491e61859e2bbc069",
            "value": 535
          }
        },
        "657d5845710142a39b41e53e4f8323a3": {
          "model_module": "@jupyter-widgets/controls",
          "model_name": "HTMLModel",
          "model_module_version": "1.5.0",
          "state": {
            "_dom_classes": [],
            "_model_module": "@jupyter-widgets/controls",
            "_model_module_version": "1.5.0",
            "_model_name": "HTMLModel",
            "_view_count": null,
            "_view_module": "@jupyter-widgets/controls",
            "_view_module_version": "1.5.0",
            "_view_name": "HTMLView",
            "description": "",
            "description_tooltip": null,
            "layout": "IPY_MODEL_ae4f4988d91c48fe853a25039712bb91",
            "placeholder": "​",
            "style": "IPY_MODEL_9fa907208377419bba995831da131b41",
            "value": " 535/535 [00:00&lt;00:00, 864.98 examples/s]"
          }
        },
        "0d1e2fe29f0e4ff4acd69b81c1299b9c": {
          "model_module": "@jupyter-widgets/base",
          "model_name": "LayoutModel",
          "model_module_version": "1.2.0",
          "state": {
            "_model_module": "@jupyter-widgets/base",
            "_model_module_version": "1.2.0",
            "_model_name": "LayoutModel",
            "_view_count": null,
            "_view_module": "@jupyter-widgets/base",
            "_view_module_version": "1.2.0",
            "_view_name": "LayoutView",
            "align_content": null,
            "align_items": null,
            "align_self": null,
            "border": null,
            "bottom": null,
            "display": null,
            "flex": null,
            "flex_flow": null,
            "grid_area": null,
            "grid_auto_columns": null,
            "grid_auto_flow": null,
            "grid_auto_rows": null,
            "grid_column": null,
            "grid_gap": null,
            "grid_row": null,
            "grid_template_areas": null,
            "grid_template_columns": null,
            "grid_template_rows": null,
            "height": null,
            "justify_content": null,
            "justify_items": null,
            "left": null,
            "margin": null,
            "max_height": null,
            "max_width": null,
            "min_height": null,
            "min_width": null,
            "object_fit": null,
            "object_position": null,
            "order": null,
            "overflow": null,
            "overflow_x": null,
            "overflow_y": null,
            "padding": null,
            "right": null,
            "top": null,
            "visibility": null,
            "width": null
          }
        },
        "3667b58c8807465f9b2c6385000a8888": {
          "model_module": "@jupyter-widgets/base",
          "model_name": "LayoutModel",
          "model_module_version": "1.2.0",
          "state": {
            "_model_module": "@jupyter-widgets/base",
            "_model_module_version": "1.2.0",
            "_model_name": "LayoutModel",
            "_view_count": null,
            "_view_module": "@jupyter-widgets/base",
            "_view_module_version": "1.2.0",
            "_view_name": "LayoutView",
            "align_content": null,
            "align_items": null,
            "align_self": null,
            "border": null,
            "bottom": null,
            "display": null,
            "flex": null,
            "flex_flow": null,
            "grid_area": null,
            "grid_auto_columns": null,
            "grid_auto_flow": null,
            "grid_auto_rows": null,
            "grid_column": null,
            "grid_gap": null,
            "grid_row": null,
            "grid_template_areas": null,
            "grid_template_columns": null,
            "grid_template_rows": null,
            "height": null,
            "justify_content": null,
            "justify_items": null,
            "left": null,
            "margin": null,
            "max_height": null,
            "max_width": null,
            "min_height": null,
            "min_width": null,
            "object_fit": null,
            "object_position": null,
            "order": null,
            "overflow": null,
            "overflow_x": null,
            "overflow_y": null,
            "padding": null,
            "right": null,
            "top": null,
            "visibility": null,
            "width": null
          }
        },
        "e03952d8dfd94697b556c3563db42968": {
          "model_module": "@jupyter-widgets/controls",
          "model_name": "DescriptionStyleModel",
          "model_module_version": "1.5.0",
          "state": {
            "_model_module": "@jupyter-widgets/controls",
            "_model_module_version": "1.5.0",
            "_model_name": "DescriptionStyleModel",
            "_view_count": null,
            "_view_module": "@jupyter-widgets/base",
            "_view_module_version": "1.2.0",
            "_view_name": "StyleView",
            "description_width": ""
          }
        },
        "132acd68c72e47ea98d6d325ce1a5bc4": {
          "model_module": "@jupyter-widgets/base",
          "model_name": "LayoutModel",
          "model_module_version": "1.2.0",
          "state": {
            "_model_module": "@jupyter-widgets/base",
            "_model_module_version": "1.2.0",
            "_model_name": "LayoutModel",
            "_view_count": null,
            "_view_module": "@jupyter-widgets/base",
            "_view_module_version": "1.2.0",
            "_view_name": "LayoutView",
            "align_content": null,
            "align_items": null,
            "align_self": null,
            "border": null,
            "bottom": null,
            "display": null,
            "flex": null,
            "flex_flow": null,
            "grid_area": null,
            "grid_auto_columns": null,
            "grid_auto_flow": null,
            "grid_auto_rows": null,
            "grid_column": null,
            "grid_gap": null,
            "grid_row": null,
            "grid_template_areas": null,
            "grid_template_columns": null,
            "grid_template_rows": null,
            "height": null,
            "justify_content": null,
            "justify_items": null,
            "left": null,
            "margin": null,
            "max_height": null,
            "max_width": null,
            "min_height": null,
            "min_width": null,
            "object_fit": null,
            "object_position": null,
            "order": null,
            "overflow": null,
            "overflow_x": null,
            "overflow_y": null,
            "padding": null,
            "right": null,
            "top": null,
            "visibility": null,
            "width": null
          }
        },
        "cff745831acc43e491e61859e2bbc069": {
          "model_module": "@jupyter-widgets/controls",
          "model_name": "ProgressStyleModel",
          "model_module_version": "1.5.0",
          "state": {
            "_model_module": "@jupyter-widgets/controls",
            "_model_module_version": "1.5.0",
            "_model_name": "ProgressStyleModel",
            "_view_count": null,
            "_view_module": "@jupyter-widgets/base",
            "_view_module_version": "1.2.0",
            "_view_name": "StyleView",
            "bar_color": null,
            "description_width": ""
          }
        },
        "ae4f4988d91c48fe853a25039712bb91": {
          "model_module": "@jupyter-widgets/base",
          "model_name": "LayoutModel",
          "model_module_version": "1.2.0",
          "state": {
            "_model_module": "@jupyter-widgets/base",
            "_model_module_version": "1.2.0",
            "_model_name": "LayoutModel",
            "_view_count": null,
            "_view_module": "@jupyter-widgets/base",
            "_view_module_version": "1.2.0",
            "_view_name": "LayoutView",
            "align_content": null,
            "align_items": null,
            "align_self": null,
            "border": null,
            "bottom": null,
            "display": null,
            "flex": null,
            "flex_flow": null,
            "grid_area": null,
            "grid_auto_columns": null,
            "grid_auto_flow": null,
            "grid_auto_rows": null,
            "grid_column": null,
            "grid_gap": null,
            "grid_row": null,
            "grid_template_areas": null,
            "grid_template_columns": null,
            "grid_template_rows": null,
            "height": null,
            "justify_content": null,
            "justify_items": null,
            "left": null,
            "margin": null,
            "max_height": null,
            "max_width": null,
            "min_height": null,
            "min_width": null,
            "object_fit": null,
            "object_position": null,
            "order": null,
            "overflow": null,
            "overflow_x": null,
            "overflow_y": null,
            "padding": null,
            "right": null,
            "top": null,
            "visibility": null,
            "width": null
          }
        },
        "9fa907208377419bba995831da131b41": {
          "model_module": "@jupyter-widgets/controls",
          "model_name": "DescriptionStyleModel",
          "model_module_version": "1.5.0",
          "state": {
            "_model_module": "@jupyter-widgets/controls",
            "_model_module_version": "1.5.0",
            "_model_name": "DescriptionStyleModel",
            "_view_count": null,
            "_view_module": "@jupyter-widgets/base",
            "_view_module_version": "1.2.0",
            "_view_name": "StyleView",
            "description_width": ""
          }
        },
        "fc3651731ac149dc81fc1bb957a2b6d7": {
          "model_module": "@jupyter-widgets/controls",
          "model_name": "HBoxModel",
          "model_module_version": "1.5.0",
          "state": {
            "_dom_classes": [],
            "_model_module": "@jupyter-widgets/controls",
            "_model_module_version": "1.5.0",
            "_model_name": "HBoxModel",
            "_view_count": null,
            "_view_module": "@jupyter-widgets/controls",
            "_view_module_version": "1.5.0",
            "_view_name": "HBoxView",
            "box_style": "",
            "children": [
              "IPY_MODEL_b39c1aded4284b0aaa339c795abef1c8",
              "IPY_MODEL_b66344b688a046bbbcfebf4e515aad40",
              "IPY_MODEL_01cdda53ff984a7faacdba2b411485b8"
            ],
            "layout": "IPY_MODEL_cccd371671584a8a85f9019b52afedd6"
          }
        },
        "b39c1aded4284b0aaa339c795abef1c8": {
          "model_module": "@jupyter-widgets/controls",
          "model_name": "HTMLModel",
          "model_module_version": "1.5.0",
          "state": {
            "_dom_classes": [],
            "_model_module": "@jupyter-widgets/controls",
            "_model_module_version": "1.5.0",
            "_model_name": "HTMLModel",
            "_view_count": null,
            "_view_module": "@jupyter-widgets/controls",
            "_view_module_version": "1.5.0",
            "_view_name": "HTMLView",
            "description": "",
            "description_tooltip": null,
            "layout": "IPY_MODEL_827196f641604a25ac18f9211186b034",
            "placeholder": "​",
            "style": "IPY_MODEL_fe1bc5b0df554444ac3f644d3c75eef9",
            "value": "Map: 100%"
          }
        },
        "b66344b688a046bbbcfebf4e515aad40": {
          "model_module": "@jupyter-widgets/controls",
          "model_name": "FloatProgressModel",
          "model_module_version": "1.5.0",
          "state": {
            "_dom_classes": [],
            "_model_module": "@jupyter-widgets/controls",
            "_model_module_version": "1.5.0",
            "_model_name": "FloatProgressModel",
            "_view_count": null,
            "_view_module": "@jupyter-widgets/controls",
            "_view_module_version": "1.5.0",
            "_view_name": "ProgressView",
            "bar_style": "success",
            "description": "",
            "description_tooltip": null,
            "layout": "IPY_MODEL_79c3e4649ff048ef9bdfd15b430c23ec",
            "max": 134,
            "min": 0,
            "orientation": "horizontal",
            "style": "IPY_MODEL_70a2b863720a42c1b38f752496fb700f",
            "value": 134
          }
        },
        "01cdda53ff984a7faacdba2b411485b8": {
          "model_module": "@jupyter-widgets/controls",
          "model_name": "HTMLModel",
          "model_module_version": "1.5.0",
          "state": {
            "_dom_classes": [],
            "_model_module": "@jupyter-widgets/controls",
            "_model_module_version": "1.5.0",
            "_model_name": "HTMLModel",
            "_view_count": null,
            "_view_module": "@jupyter-widgets/controls",
            "_view_module_version": "1.5.0",
            "_view_name": "HTMLView",
            "description": "",
            "description_tooltip": null,
            "layout": "IPY_MODEL_9688e2115b3445eaa2d750c58770a69b",
            "placeholder": "​",
            "style": "IPY_MODEL_44a489440f8d4a23a1fff4001812c1b9",
            "value": " 134/134 [00:00&lt;00:00, 709.93 examples/s]"
          }
        },
        "cccd371671584a8a85f9019b52afedd6": {
          "model_module": "@jupyter-widgets/base",
          "model_name": "LayoutModel",
          "model_module_version": "1.2.0",
          "state": {
            "_model_module": "@jupyter-widgets/base",
            "_model_module_version": "1.2.0",
            "_model_name": "LayoutModel",
            "_view_count": null,
            "_view_module": "@jupyter-widgets/base",
            "_view_module_version": "1.2.0",
            "_view_name": "LayoutView",
            "align_content": null,
            "align_items": null,
            "align_self": null,
            "border": null,
            "bottom": null,
            "display": null,
            "flex": null,
            "flex_flow": null,
            "grid_area": null,
            "grid_auto_columns": null,
            "grid_auto_flow": null,
            "grid_auto_rows": null,
            "grid_column": null,
            "grid_gap": null,
            "grid_row": null,
            "grid_template_areas": null,
            "grid_template_columns": null,
            "grid_template_rows": null,
            "height": null,
            "justify_content": null,
            "justify_items": null,
            "left": null,
            "margin": null,
            "max_height": null,
            "max_width": null,
            "min_height": null,
            "min_width": null,
            "object_fit": null,
            "object_position": null,
            "order": null,
            "overflow": null,
            "overflow_x": null,
            "overflow_y": null,
            "padding": null,
            "right": null,
            "top": null,
            "visibility": null,
            "width": null
          }
        },
        "827196f641604a25ac18f9211186b034": {
          "model_module": "@jupyter-widgets/base",
          "model_name": "LayoutModel",
          "model_module_version": "1.2.0",
          "state": {
            "_model_module": "@jupyter-widgets/base",
            "_model_module_version": "1.2.0",
            "_model_name": "LayoutModel",
            "_view_count": null,
            "_view_module": "@jupyter-widgets/base",
            "_view_module_version": "1.2.0",
            "_view_name": "LayoutView",
            "align_content": null,
            "align_items": null,
            "align_self": null,
            "border": null,
            "bottom": null,
            "display": null,
            "flex": null,
            "flex_flow": null,
            "grid_area": null,
            "grid_auto_columns": null,
            "grid_auto_flow": null,
            "grid_auto_rows": null,
            "grid_column": null,
            "grid_gap": null,
            "grid_row": null,
            "grid_template_areas": null,
            "grid_template_columns": null,
            "grid_template_rows": null,
            "height": null,
            "justify_content": null,
            "justify_items": null,
            "left": null,
            "margin": null,
            "max_height": null,
            "max_width": null,
            "min_height": null,
            "min_width": null,
            "object_fit": null,
            "object_position": null,
            "order": null,
            "overflow": null,
            "overflow_x": null,
            "overflow_y": null,
            "padding": null,
            "right": null,
            "top": null,
            "visibility": null,
            "width": null
          }
        },
        "fe1bc5b0df554444ac3f644d3c75eef9": {
          "model_module": "@jupyter-widgets/controls",
          "model_name": "DescriptionStyleModel",
          "model_module_version": "1.5.0",
          "state": {
            "_model_module": "@jupyter-widgets/controls",
            "_model_module_version": "1.5.0",
            "_model_name": "DescriptionStyleModel",
            "_view_count": null,
            "_view_module": "@jupyter-widgets/base",
            "_view_module_version": "1.2.0",
            "_view_name": "StyleView",
            "description_width": ""
          }
        },
        "79c3e4649ff048ef9bdfd15b430c23ec": {
          "model_module": "@jupyter-widgets/base",
          "model_name": "LayoutModel",
          "model_module_version": "1.2.0",
          "state": {
            "_model_module": "@jupyter-widgets/base",
            "_model_module_version": "1.2.0",
            "_model_name": "LayoutModel",
            "_view_count": null,
            "_view_module": "@jupyter-widgets/base",
            "_view_module_version": "1.2.0",
            "_view_name": "LayoutView",
            "align_content": null,
            "align_items": null,
            "align_self": null,
            "border": null,
            "bottom": null,
            "display": null,
            "flex": null,
            "flex_flow": null,
            "grid_area": null,
            "grid_auto_columns": null,
            "grid_auto_flow": null,
            "grid_auto_rows": null,
            "grid_column": null,
            "grid_gap": null,
            "grid_row": null,
            "grid_template_areas": null,
            "grid_template_columns": null,
            "grid_template_rows": null,
            "height": null,
            "justify_content": null,
            "justify_items": null,
            "left": null,
            "margin": null,
            "max_height": null,
            "max_width": null,
            "min_height": null,
            "min_width": null,
            "object_fit": null,
            "object_position": null,
            "order": null,
            "overflow": null,
            "overflow_x": null,
            "overflow_y": null,
            "padding": null,
            "right": null,
            "top": null,
            "visibility": null,
            "width": null
          }
        },
        "70a2b863720a42c1b38f752496fb700f": {
          "model_module": "@jupyter-widgets/controls",
          "model_name": "ProgressStyleModel",
          "model_module_version": "1.5.0",
          "state": {
            "_model_module": "@jupyter-widgets/controls",
            "_model_module_version": "1.5.0",
            "_model_name": "ProgressStyleModel",
            "_view_count": null,
            "_view_module": "@jupyter-widgets/base",
            "_view_module_version": "1.2.0",
            "_view_name": "StyleView",
            "bar_color": null,
            "description_width": ""
          }
        },
        "9688e2115b3445eaa2d750c58770a69b": {
          "model_module": "@jupyter-widgets/base",
          "model_name": "LayoutModel",
          "model_module_version": "1.2.0",
          "state": {
            "_model_module": "@jupyter-widgets/base",
            "_model_module_version": "1.2.0",
            "_model_name": "LayoutModel",
            "_view_count": null,
            "_view_module": "@jupyter-widgets/base",
            "_view_module_version": "1.2.0",
            "_view_name": "LayoutView",
            "align_content": null,
            "align_items": null,
            "align_self": null,
            "border": null,
            "bottom": null,
            "display": null,
            "flex": null,
            "flex_flow": null,
            "grid_area": null,
            "grid_auto_columns": null,
            "grid_auto_flow": null,
            "grid_auto_rows": null,
            "grid_column": null,
            "grid_gap": null,
            "grid_row": null,
            "grid_template_areas": null,
            "grid_template_columns": null,
            "grid_template_rows": null,
            "height": null,
            "justify_content": null,
            "justify_items": null,
            "left": null,
            "margin": null,
            "max_height": null,
            "max_width": null,
            "min_height": null,
            "min_width": null,
            "object_fit": null,
            "object_position": null,
            "order": null,
            "overflow": null,
            "overflow_x": null,
            "overflow_y": null,
            "padding": null,
            "right": null,
            "top": null,
            "visibility": null,
            "width": null
          }
        },
        "44a489440f8d4a23a1fff4001812c1b9": {
          "model_module": "@jupyter-widgets/controls",
          "model_name": "DescriptionStyleModel",
          "model_module_version": "1.5.0",
          "state": {
            "_model_module": "@jupyter-widgets/controls",
            "_model_module_version": "1.5.0",
            "_model_name": "DescriptionStyleModel",
            "_view_count": null,
            "_view_module": "@jupyter-widgets/base",
            "_view_module_version": "1.2.0",
            "_view_name": "StyleView",
            "description_width": ""
          }
        }
      }
    }
  },
  "cells": [
    {
      "cell_type": "code",
      "source": [
        "!pip install transformers[torch]\n",
        "!pip install accelerate -U\n"
      ],
      "metadata": {
        "colab": {
          "base_uri": "https://localhost:8080/"
        },
        "id": "T5rnRoTs4gio",
        "outputId": "b6ff5a5e-4b3b-45da-8679-7ca740e8616c"
      },
      "execution_count": null,
      "outputs": [
        {
          "output_type": "stream",
          "name": "stdout",
          "text": [
            "Requirement already satisfied: transformers[torch] in /usr/local/lib/python3.10/dist-packages (4.38.2)\n",
            "Requirement already satisfied: filelock in /usr/local/lib/python3.10/dist-packages (from transformers[torch]) (3.13.4)\n",
            "Requirement already satisfied: huggingface-hub<1.0,>=0.19.3 in /usr/local/lib/python3.10/dist-packages (from transformers[torch]) (0.20.3)\n",
            "Requirement already satisfied: numpy>=1.17 in /usr/local/lib/python3.10/dist-packages (from transformers[torch]) (1.25.2)\n",
            "Requirement already satisfied: packaging>=20.0 in /usr/local/lib/python3.10/dist-packages (from transformers[torch]) (24.0)\n",
            "Requirement already satisfied: pyyaml>=5.1 in /usr/local/lib/python3.10/dist-packages (from transformers[torch]) (6.0.1)\n",
            "Requirement already satisfied: regex!=2019.12.17 in /usr/local/lib/python3.10/dist-packages (from transformers[torch]) (2023.12.25)\n",
            "Requirement already satisfied: requests in /usr/local/lib/python3.10/dist-packages (from transformers[torch]) (2.31.0)\n",
            "Requirement already satisfied: tokenizers<0.19,>=0.14 in /usr/local/lib/python3.10/dist-packages (from transformers[torch]) (0.15.2)\n",
            "Requirement already satisfied: safetensors>=0.4.1 in /usr/local/lib/python3.10/dist-packages (from transformers[torch]) (0.4.3)\n",
            "Requirement already satisfied: tqdm>=4.27 in /usr/local/lib/python3.10/dist-packages (from transformers[torch]) (4.66.2)\n",
            "Requirement already satisfied: torch in /usr/local/lib/python3.10/dist-packages (from transformers[torch]) (2.2.1+cu121)\n",
            "Collecting accelerate>=0.21.0 (from transformers[torch])\n",
            "  Downloading accelerate-0.29.3-py3-none-any.whl (297 kB)\n",
            "\u001b[2K     \u001b[90m━━━━━━━━━━━━━━━━━━━━━━━━━━━━━━━━━━━━━━━━\u001b[0m \u001b[32m297.6/297.6 kB\u001b[0m \u001b[31m2.8 MB/s\u001b[0m eta \u001b[36m0:00:00\u001b[0m\n",
            "\u001b[?25hRequirement already satisfied: psutil in /usr/local/lib/python3.10/dist-packages (from accelerate>=0.21.0->transformers[torch]) (5.9.5)\n",
            "Requirement already satisfied: fsspec>=2023.5.0 in /usr/local/lib/python3.10/dist-packages (from huggingface-hub<1.0,>=0.19.3->transformers[torch]) (2023.6.0)\n",
            "Requirement already satisfied: typing-extensions>=3.7.4.3 in /usr/local/lib/python3.10/dist-packages (from huggingface-hub<1.0,>=0.19.3->transformers[torch]) (4.11.0)\n",
            "Requirement already satisfied: sympy in /usr/local/lib/python3.10/dist-packages (from torch->transformers[torch]) (1.12)\n",
            "Requirement already satisfied: networkx in /usr/local/lib/python3.10/dist-packages (from torch->transformers[torch]) (3.3)\n",
            "Requirement already satisfied: jinja2 in /usr/local/lib/python3.10/dist-packages (from torch->transformers[torch]) (3.1.3)\n",
            "Collecting nvidia-cuda-nvrtc-cu12==12.1.105 (from torch->transformers[torch])\n",
            "  Using cached nvidia_cuda_nvrtc_cu12-12.1.105-py3-none-manylinux1_x86_64.whl (23.7 MB)\n",
            "Collecting nvidia-cuda-runtime-cu12==12.1.105 (from torch->transformers[torch])\n",
            "  Using cached nvidia_cuda_runtime_cu12-12.1.105-py3-none-manylinux1_x86_64.whl (823 kB)\n",
            "Collecting nvidia-cuda-cupti-cu12==12.1.105 (from torch->transformers[torch])\n",
            "  Using cached nvidia_cuda_cupti_cu12-12.1.105-py3-none-manylinux1_x86_64.whl (14.1 MB)\n",
            "Collecting nvidia-cudnn-cu12==8.9.2.26 (from torch->transformers[torch])\n",
            "  Using cached nvidia_cudnn_cu12-8.9.2.26-py3-none-manylinux1_x86_64.whl (731.7 MB)\n",
            "Collecting nvidia-cublas-cu12==12.1.3.1 (from torch->transformers[torch])\n",
            "  Using cached nvidia_cublas_cu12-12.1.3.1-py3-none-manylinux1_x86_64.whl (410.6 MB)\n",
            "Collecting nvidia-cufft-cu12==11.0.2.54 (from torch->transformers[torch])\n",
            "  Using cached nvidia_cufft_cu12-11.0.2.54-py3-none-manylinux1_x86_64.whl (121.6 MB)\n",
            "Collecting nvidia-curand-cu12==10.3.2.106 (from torch->transformers[torch])\n",
            "  Using cached nvidia_curand_cu12-10.3.2.106-py3-none-manylinux1_x86_64.whl (56.5 MB)\n",
            "Collecting nvidia-cusolver-cu12==11.4.5.107 (from torch->transformers[torch])\n",
            "  Using cached nvidia_cusolver_cu12-11.4.5.107-py3-none-manylinux1_x86_64.whl (124.2 MB)\n",
            "Collecting nvidia-cusparse-cu12==12.1.0.106 (from torch->transformers[torch])\n",
            "  Using cached nvidia_cusparse_cu12-12.1.0.106-py3-none-manylinux1_x86_64.whl (196.0 MB)\n",
            "Collecting nvidia-nccl-cu12==2.19.3 (from torch->transformers[torch])\n",
            "  Using cached nvidia_nccl_cu12-2.19.3-py3-none-manylinux1_x86_64.whl (166.0 MB)\n",
            "Collecting nvidia-nvtx-cu12==12.1.105 (from torch->transformers[torch])\n",
            "  Using cached nvidia_nvtx_cu12-12.1.105-py3-none-manylinux1_x86_64.whl (99 kB)\n",
            "Requirement already satisfied: triton==2.2.0 in /usr/local/lib/python3.10/dist-packages (from torch->transformers[torch]) (2.2.0)\n",
            "Collecting nvidia-nvjitlink-cu12 (from nvidia-cusolver-cu12==11.4.5.107->torch->transformers[torch])\n",
            "  Using cached nvidia_nvjitlink_cu12-12.4.127-py3-none-manylinux2014_x86_64.whl (21.1 MB)\n",
            "Requirement already satisfied: charset-normalizer<4,>=2 in /usr/local/lib/python3.10/dist-packages (from requests->transformers[torch]) (3.3.2)\n",
            "Requirement already satisfied: idna<4,>=2.5 in /usr/local/lib/python3.10/dist-packages (from requests->transformers[torch]) (3.7)\n",
            "Requirement already satisfied: urllib3<3,>=1.21.1 in /usr/local/lib/python3.10/dist-packages (from requests->transformers[torch]) (2.0.7)\n",
            "Requirement already satisfied: certifi>=2017.4.17 in /usr/local/lib/python3.10/dist-packages (from requests->transformers[torch]) (2024.2.2)\n",
            "Requirement already satisfied: MarkupSafe>=2.0 in /usr/local/lib/python3.10/dist-packages (from jinja2->torch->transformers[torch]) (2.1.5)\n",
            "Requirement already satisfied: mpmath>=0.19 in /usr/local/lib/python3.10/dist-packages (from sympy->torch->transformers[torch]) (1.3.0)\n",
            "Installing collected packages: nvidia-nvtx-cu12, nvidia-nvjitlink-cu12, nvidia-nccl-cu12, nvidia-curand-cu12, nvidia-cufft-cu12, nvidia-cuda-runtime-cu12, nvidia-cuda-nvrtc-cu12, nvidia-cuda-cupti-cu12, nvidia-cublas-cu12, nvidia-cusparse-cu12, nvidia-cudnn-cu12, nvidia-cusolver-cu12, accelerate\n",
            "Successfully installed accelerate-0.29.3 nvidia-cublas-cu12-12.1.3.1 nvidia-cuda-cupti-cu12-12.1.105 nvidia-cuda-nvrtc-cu12-12.1.105 nvidia-cuda-runtime-cu12-12.1.105 nvidia-cudnn-cu12-8.9.2.26 nvidia-cufft-cu12-11.0.2.54 nvidia-curand-cu12-10.3.2.106 nvidia-cusolver-cu12-11.4.5.107 nvidia-cusparse-cu12-12.1.0.106 nvidia-nccl-cu12-2.19.3 nvidia-nvjitlink-cu12-12.4.127 nvidia-nvtx-cu12-12.1.105\n",
            "Requirement already satisfied: accelerate in /usr/local/lib/python3.10/dist-packages (0.29.3)\n",
            "Requirement already satisfied: numpy>=1.17 in /usr/local/lib/python3.10/dist-packages (from accelerate) (1.25.2)\n",
            "Requirement already satisfied: packaging>=20.0 in /usr/local/lib/python3.10/dist-packages (from accelerate) (24.0)\n",
            "Requirement already satisfied: psutil in /usr/local/lib/python3.10/dist-packages (from accelerate) (5.9.5)\n",
            "Requirement already satisfied: pyyaml in /usr/local/lib/python3.10/dist-packages (from accelerate) (6.0.1)\n",
            "Requirement already satisfied: torch>=1.10.0 in /usr/local/lib/python3.10/dist-packages (from accelerate) (2.2.1+cu121)\n",
            "Requirement already satisfied: huggingface-hub in /usr/local/lib/python3.10/dist-packages (from accelerate) (0.20.3)\n",
            "Requirement already satisfied: safetensors>=0.3.1 in /usr/local/lib/python3.10/dist-packages (from accelerate) (0.4.3)\n",
            "Requirement already satisfied: filelock in /usr/local/lib/python3.10/dist-packages (from torch>=1.10.0->accelerate) (3.13.4)\n",
            "Requirement already satisfied: typing-extensions>=4.8.0 in /usr/local/lib/python3.10/dist-packages (from torch>=1.10.0->accelerate) (4.11.0)\n",
            "Requirement already satisfied: sympy in /usr/local/lib/python3.10/dist-packages (from torch>=1.10.0->accelerate) (1.12)\n",
            "Requirement already satisfied: networkx in /usr/local/lib/python3.10/dist-packages (from torch>=1.10.0->accelerate) (3.3)\n",
            "Requirement already satisfied: jinja2 in /usr/local/lib/python3.10/dist-packages (from torch>=1.10.0->accelerate) (3.1.3)\n",
            "Requirement already satisfied: fsspec in /usr/local/lib/python3.10/dist-packages (from torch>=1.10.0->accelerate) (2023.6.0)\n",
            "Requirement already satisfied: nvidia-cuda-nvrtc-cu12==12.1.105 in /usr/local/lib/python3.10/dist-packages (from torch>=1.10.0->accelerate) (12.1.105)\n",
            "Requirement already satisfied: nvidia-cuda-runtime-cu12==12.1.105 in /usr/local/lib/python3.10/dist-packages (from torch>=1.10.0->accelerate) (12.1.105)\n",
            "Requirement already satisfied: nvidia-cuda-cupti-cu12==12.1.105 in /usr/local/lib/python3.10/dist-packages (from torch>=1.10.0->accelerate) (12.1.105)\n",
            "Requirement already satisfied: nvidia-cudnn-cu12==8.9.2.26 in /usr/local/lib/python3.10/dist-packages (from torch>=1.10.0->accelerate) (8.9.2.26)\n",
            "Requirement already satisfied: nvidia-cublas-cu12==12.1.3.1 in /usr/local/lib/python3.10/dist-packages (from torch>=1.10.0->accelerate) (12.1.3.1)\n",
            "Requirement already satisfied: nvidia-cufft-cu12==11.0.2.54 in /usr/local/lib/python3.10/dist-packages (from torch>=1.10.0->accelerate) (11.0.2.54)\n",
            "Requirement already satisfied: nvidia-curand-cu12==10.3.2.106 in /usr/local/lib/python3.10/dist-packages (from torch>=1.10.0->accelerate) (10.3.2.106)\n",
            "Requirement already satisfied: nvidia-cusolver-cu12==11.4.5.107 in /usr/local/lib/python3.10/dist-packages (from torch>=1.10.0->accelerate) (11.4.5.107)\n",
            "Requirement already satisfied: nvidia-cusparse-cu12==12.1.0.106 in /usr/local/lib/python3.10/dist-packages (from torch>=1.10.0->accelerate) (12.1.0.106)\n",
            "Requirement already satisfied: nvidia-nccl-cu12==2.19.3 in /usr/local/lib/python3.10/dist-packages (from torch>=1.10.0->accelerate) (2.19.3)\n",
            "Requirement already satisfied: nvidia-nvtx-cu12==12.1.105 in /usr/local/lib/python3.10/dist-packages (from torch>=1.10.0->accelerate) (12.1.105)\n",
            "Requirement already satisfied: triton==2.2.0 in /usr/local/lib/python3.10/dist-packages (from torch>=1.10.0->accelerate) (2.2.0)\n",
            "Requirement already satisfied: nvidia-nvjitlink-cu12 in /usr/local/lib/python3.10/dist-packages (from nvidia-cusolver-cu12==11.4.5.107->torch>=1.10.0->accelerate) (12.4.127)\n",
            "Requirement already satisfied: requests in /usr/local/lib/python3.10/dist-packages (from huggingface-hub->accelerate) (2.31.0)\n",
            "Requirement already satisfied: tqdm>=4.42.1 in /usr/local/lib/python3.10/dist-packages (from huggingface-hub->accelerate) (4.66.2)\n",
            "Requirement already satisfied: MarkupSafe>=2.0 in /usr/local/lib/python3.10/dist-packages (from jinja2->torch>=1.10.0->accelerate) (2.1.5)\n",
            "Requirement already satisfied: charset-normalizer<4,>=2 in /usr/local/lib/python3.10/dist-packages (from requests->huggingface-hub->accelerate) (3.3.2)\n",
            "Requirement already satisfied: idna<4,>=2.5 in /usr/local/lib/python3.10/dist-packages (from requests->huggingface-hub->accelerate) (3.7)\n",
            "Requirement already satisfied: urllib3<3,>=1.21.1 in /usr/local/lib/python3.10/dist-packages (from requests->huggingface-hub->accelerate) (2.0.7)\n",
            "Requirement already satisfied: certifi>=2017.4.17 in /usr/local/lib/python3.10/dist-packages (from requests->huggingface-hub->accelerate) (2024.2.2)\n",
            "Requirement already satisfied: mpmath>=0.19 in /usr/local/lib/python3.10/dist-packages (from sympy->torch>=1.10.0->accelerate) (1.3.0)\n"
          ]
        }
      ]
    },
    {
      "cell_type": "code",
      "source": [
        "!pip install datasets\n"
      ],
      "metadata": {
        "colab": {
          "base_uri": "https://localhost:8080/"
        },
        "id": "yB7tOZDa7Euq",
        "outputId": "7611fe3f-0832-4758-c535-f97a4f1fb164"
      },
      "execution_count": null,
      "outputs": [
        {
          "output_type": "stream",
          "name": "stdout",
          "text": [
            "Collecting datasets\n",
            "  Downloading datasets-2.19.0-py3-none-any.whl (542 kB)\n",
            "\u001b[2K     \u001b[90m━━━━━━━━━━━━━━━━━━━━━━━━━━━━━━━━━━━━━━━━\u001b[0m \u001b[32m542.0/542.0 kB\u001b[0m \u001b[31m8.0 MB/s\u001b[0m eta \u001b[36m0:00:00\u001b[0m\n",
            "\u001b[?25hRequirement already satisfied: filelock in /usr/local/lib/python3.10/dist-packages (from datasets) (3.13.4)\n",
            "Requirement already satisfied: numpy>=1.17 in /usr/local/lib/python3.10/dist-packages (from datasets) (1.25.2)\n",
            "Requirement already satisfied: pyarrow>=12.0.0 in /usr/local/lib/python3.10/dist-packages (from datasets) (14.0.2)\n",
            "Requirement already satisfied: pyarrow-hotfix in /usr/local/lib/python3.10/dist-packages (from datasets) (0.6)\n",
            "Collecting dill<0.3.9,>=0.3.0 (from datasets)\n",
            "  Downloading dill-0.3.8-py3-none-any.whl (116 kB)\n",
            "\u001b[2K     \u001b[90m━━━━━━━━━━━━━━━━━━━━━━━━━━━━━━━━━━━━━━━━\u001b[0m \u001b[32m116.3/116.3 kB\u001b[0m \u001b[31m10.0 MB/s\u001b[0m eta \u001b[36m0:00:00\u001b[0m\n",
            "\u001b[?25hRequirement already satisfied: pandas in /usr/local/lib/python3.10/dist-packages (from datasets) (2.0.3)\n",
            "Requirement already satisfied: requests>=2.19.0 in /usr/local/lib/python3.10/dist-packages (from datasets) (2.31.0)\n",
            "Requirement already satisfied: tqdm>=4.62.1 in /usr/local/lib/python3.10/dist-packages (from datasets) (4.66.2)\n",
            "Collecting xxhash (from datasets)\n",
            "  Downloading xxhash-3.4.1-cp310-cp310-manylinux_2_17_x86_64.manylinux2014_x86_64.whl (194 kB)\n",
            "\u001b[2K     \u001b[90m━━━━━━━━━━━━━━━━━━━━━━━━━━━━━━━━━━━━━━━━\u001b[0m \u001b[32m194.1/194.1 kB\u001b[0m \u001b[31m22.3 MB/s\u001b[0m eta \u001b[36m0:00:00\u001b[0m\n",
            "\u001b[?25hCollecting multiprocess (from datasets)\n",
            "  Downloading multiprocess-0.70.16-py310-none-any.whl (134 kB)\n",
            "\u001b[2K     \u001b[90m━━━━━━━━━━━━━━━━━━━━━━━━━━━━━━━━━━━━━━━━\u001b[0m \u001b[32m134.8/134.8 kB\u001b[0m \u001b[31m18.1 MB/s\u001b[0m eta \u001b[36m0:00:00\u001b[0m\n",
            "\u001b[?25hRequirement already satisfied: fsspec[http]<=2024.3.1,>=2023.1.0 in /usr/local/lib/python3.10/dist-packages (from datasets) (2023.6.0)\n",
            "Requirement already satisfied: aiohttp in /usr/local/lib/python3.10/dist-packages (from datasets) (3.9.5)\n",
            "Collecting huggingface-hub>=0.21.2 (from datasets)\n",
            "  Downloading huggingface_hub-0.22.2-py3-none-any.whl (388 kB)\n",
            "\u001b[2K     \u001b[90m━━━━━━━━━━━━━━━━━━━━━━━━━━━━━━━━━━━━━━━━\u001b[0m \u001b[32m388.9/388.9 kB\u001b[0m \u001b[31m37.4 MB/s\u001b[0m eta \u001b[36m0:00:00\u001b[0m\n",
            "\u001b[?25hRequirement already satisfied: packaging in /usr/local/lib/python3.10/dist-packages (from datasets) (24.0)\n",
            "Requirement already satisfied: pyyaml>=5.1 in /usr/local/lib/python3.10/dist-packages (from datasets) (6.0.1)\n",
            "Requirement already satisfied: aiosignal>=1.1.2 in /usr/local/lib/python3.10/dist-packages (from aiohttp->datasets) (1.3.1)\n",
            "Requirement already satisfied: attrs>=17.3.0 in /usr/local/lib/python3.10/dist-packages (from aiohttp->datasets) (23.2.0)\n",
            "Requirement already satisfied: frozenlist>=1.1.1 in /usr/local/lib/python3.10/dist-packages (from aiohttp->datasets) (1.4.1)\n",
            "Requirement already satisfied: multidict<7.0,>=4.5 in /usr/local/lib/python3.10/dist-packages (from aiohttp->datasets) (6.0.5)\n",
            "Requirement already satisfied: yarl<2.0,>=1.0 in /usr/local/lib/python3.10/dist-packages (from aiohttp->datasets) (1.9.4)\n",
            "Requirement already satisfied: async-timeout<5.0,>=4.0 in /usr/local/lib/python3.10/dist-packages (from aiohttp->datasets) (4.0.3)\n",
            "Requirement already satisfied: typing-extensions>=3.7.4.3 in /usr/local/lib/python3.10/dist-packages (from huggingface-hub>=0.21.2->datasets) (4.11.0)\n",
            "Requirement already satisfied: charset-normalizer<4,>=2 in /usr/local/lib/python3.10/dist-packages (from requests>=2.19.0->datasets) (3.3.2)\n",
            "Requirement already satisfied: idna<4,>=2.5 in /usr/local/lib/python3.10/dist-packages (from requests>=2.19.0->datasets) (3.7)\n",
            "Requirement already satisfied: urllib3<3,>=1.21.1 in /usr/local/lib/python3.10/dist-packages (from requests>=2.19.0->datasets) (2.0.7)\n",
            "Requirement already satisfied: certifi>=2017.4.17 in /usr/local/lib/python3.10/dist-packages (from requests>=2.19.0->datasets) (2024.2.2)\n",
            "Requirement already satisfied: python-dateutil>=2.8.2 in /usr/local/lib/python3.10/dist-packages (from pandas->datasets) (2.8.2)\n",
            "Requirement already satisfied: pytz>=2020.1 in /usr/local/lib/python3.10/dist-packages (from pandas->datasets) (2023.4)\n",
            "Requirement already satisfied: tzdata>=2022.1 in /usr/local/lib/python3.10/dist-packages (from pandas->datasets) (2024.1)\n",
            "Requirement already satisfied: six>=1.5 in /usr/local/lib/python3.10/dist-packages (from python-dateutil>=2.8.2->pandas->datasets) (1.16.0)\n",
            "Installing collected packages: xxhash, dill, multiprocess, huggingface-hub, datasets\n",
            "  Attempting uninstall: huggingface-hub\n",
            "    Found existing installation: huggingface-hub 0.20.3\n",
            "    Uninstalling huggingface-hub-0.20.3:\n",
            "      Successfully uninstalled huggingface-hub-0.20.3\n",
            "Successfully installed datasets-2.19.0 dill-0.3.8 huggingface-hub-0.22.2 multiprocess-0.70.16 xxhash-3.4.1\n"
          ]
        }
      ]
    },
    {
      "cell_type": "code",
      "source": [
        "from sklearn.metrics import classification_report\n",
        "from datasets import Dataset\n",
        "from transformers import RobertaTokenizer, RobertaForSequenceClassification, Trainer, TrainingArguments\n",
        "import pandas as pd\n",
        "import spacy\n",
        "!python -m spacy download es_core_news_sm\n"
      ],
      "metadata": {
        "colab": {
          "base_uri": "https://localhost:8080/"
        },
        "id": "zr6bOil94tHG",
        "outputId": "e8e78e43-fedd-4d0d-b0b9-ca004f001d94"
      },
      "execution_count": null,
      "outputs": [
        {
          "output_type": "stream",
          "name": "stdout",
          "text": [
            "Collecting es-core-news-sm==3.7.0\n",
            "  Downloading https://github.com/explosion/spacy-models/releases/download/es_core_news_sm-3.7.0/es_core_news_sm-3.7.0-py3-none-any.whl (12.9 MB)\n",
            "\u001b[2K     \u001b[90m━━━━━━━━━━━━━━━━━━━━━━━━━━━━━━━━━━━━━━━━\u001b[0m \u001b[32m12.9/12.9 MB\u001b[0m \u001b[31m39.8 MB/s\u001b[0m eta \u001b[36m0:00:00\u001b[0m\n",
            "\u001b[?25hRequirement already satisfied: spacy<3.8.0,>=3.7.0 in /usr/local/lib/python3.10/dist-packages (from es-core-news-sm==3.7.0) (3.7.4)\n",
            "Requirement already satisfied: spacy-legacy<3.1.0,>=3.0.11 in /usr/local/lib/python3.10/dist-packages (from spacy<3.8.0,>=3.7.0->es-core-news-sm==3.7.0) (3.0.12)\n",
            "Requirement already satisfied: spacy-loggers<2.0.0,>=1.0.0 in /usr/local/lib/python3.10/dist-packages (from spacy<3.8.0,>=3.7.0->es-core-news-sm==3.7.0) (1.0.5)\n",
            "Requirement already satisfied: murmurhash<1.1.0,>=0.28.0 in /usr/local/lib/python3.10/dist-packages (from spacy<3.8.0,>=3.7.0->es-core-news-sm==3.7.0) (1.0.10)\n",
            "Requirement already satisfied: cymem<2.1.0,>=2.0.2 in /usr/local/lib/python3.10/dist-packages (from spacy<3.8.0,>=3.7.0->es-core-news-sm==3.7.0) (2.0.8)\n",
            "Requirement already satisfied: preshed<3.1.0,>=3.0.2 in /usr/local/lib/python3.10/dist-packages (from spacy<3.8.0,>=3.7.0->es-core-news-sm==3.7.0) (3.0.9)\n",
            "Requirement already satisfied: thinc<8.3.0,>=8.2.2 in /usr/local/lib/python3.10/dist-packages (from spacy<3.8.0,>=3.7.0->es-core-news-sm==3.7.0) (8.2.3)\n",
            "Requirement already satisfied: wasabi<1.2.0,>=0.9.1 in /usr/local/lib/python3.10/dist-packages (from spacy<3.8.0,>=3.7.0->es-core-news-sm==3.7.0) (1.1.2)\n",
            "Requirement already satisfied: srsly<3.0.0,>=2.4.3 in /usr/local/lib/python3.10/dist-packages (from spacy<3.8.0,>=3.7.0->es-core-news-sm==3.7.0) (2.4.8)\n",
            "Requirement already satisfied: catalogue<2.1.0,>=2.0.6 in /usr/local/lib/python3.10/dist-packages (from spacy<3.8.0,>=3.7.0->es-core-news-sm==3.7.0) (2.0.10)\n",
            "Requirement already satisfied: weasel<0.4.0,>=0.1.0 in /usr/local/lib/python3.10/dist-packages (from spacy<3.8.0,>=3.7.0->es-core-news-sm==3.7.0) (0.3.4)\n",
            "Requirement already satisfied: typer<0.10.0,>=0.3.0 in /usr/local/lib/python3.10/dist-packages (from spacy<3.8.0,>=3.7.0->es-core-news-sm==3.7.0) (0.9.4)\n",
            "Requirement already satisfied: smart-open<7.0.0,>=5.2.1 in /usr/local/lib/python3.10/dist-packages (from spacy<3.8.0,>=3.7.0->es-core-news-sm==3.7.0) (6.4.0)\n",
            "Requirement already satisfied: tqdm<5.0.0,>=4.38.0 in /usr/local/lib/python3.10/dist-packages (from spacy<3.8.0,>=3.7.0->es-core-news-sm==3.7.0) (4.66.2)\n",
            "Requirement already satisfied: requests<3.0.0,>=2.13.0 in /usr/local/lib/python3.10/dist-packages (from spacy<3.8.0,>=3.7.0->es-core-news-sm==3.7.0) (2.31.0)\n",
            "Requirement already satisfied: pydantic!=1.8,!=1.8.1,<3.0.0,>=1.7.4 in /usr/local/lib/python3.10/dist-packages (from spacy<3.8.0,>=3.7.0->es-core-news-sm==3.7.0) (2.7.0)\n",
            "Requirement already satisfied: jinja2 in /usr/local/lib/python3.10/dist-packages (from spacy<3.8.0,>=3.7.0->es-core-news-sm==3.7.0) (3.1.3)\n",
            "Requirement already satisfied: setuptools in /usr/local/lib/python3.10/dist-packages (from spacy<3.8.0,>=3.7.0->es-core-news-sm==3.7.0) (67.7.2)\n",
            "Requirement already satisfied: packaging>=20.0 in /usr/local/lib/python3.10/dist-packages (from spacy<3.8.0,>=3.7.0->es-core-news-sm==3.7.0) (24.0)\n",
            "Requirement already satisfied: langcodes<4.0.0,>=3.2.0 in /usr/local/lib/python3.10/dist-packages (from spacy<3.8.0,>=3.7.0->es-core-news-sm==3.7.0) (3.3.0)\n",
            "Requirement already satisfied: numpy>=1.19.0 in /usr/local/lib/python3.10/dist-packages (from spacy<3.8.0,>=3.7.0->es-core-news-sm==3.7.0) (1.25.2)\n",
            "Requirement already satisfied: annotated-types>=0.4.0 in /usr/local/lib/python3.10/dist-packages (from pydantic!=1.8,!=1.8.1,<3.0.0,>=1.7.4->spacy<3.8.0,>=3.7.0->es-core-news-sm==3.7.0) (0.6.0)\n",
            "Requirement already satisfied: pydantic-core==2.18.1 in /usr/local/lib/python3.10/dist-packages (from pydantic!=1.8,!=1.8.1,<3.0.0,>=1.7.4->spacy<3.8.0,>=3.7.0->es-core-news-sm==3.7.0) (2.18.1)\n",
            "Requirement already satisfied: typing-extensions>=4.6.1 in /usr/local/lib/python3.10/dist-packages (from pydantic!=1.8,!=1.8.1,<3.0.0,>=1.7.4->spacy<3.8.0,>=3.7.0->es-core-news-sm==3.7.0) (4.11.0)\n",
            "Requirement already satisfied: charset-normalizer<4,>=2 in /usr/local/lib/python3.10/dist-packages (from requests<3.0.0,>=2.13.0->spacy<3.8.0,>=3.7.0->es-core-news-sm==3.7.0) (3.3.2)\n",
            "Requirement already satisfied: idna<4,>=2.5 in /usr/local/lib/python3.10/dist-packages (from requests<3.0.0,>=2.13.0->spacy<3.8.0,>=3.7.0->es-core-news-sm==3.7.0) (3.7)\n",
            "Requirement already satisfied: urllib3<3,>=1.21.1 in /usr/local/lib/python3.10/dist-packages (from requests<3.0.0,>=2.13.0->spacy<3.8.0,>=3.7.0->es-core-news-sm==3.7.0) (2.0.7)\n",
            "Requirement already satisfied: certifi>=2017.4.17 in /usr/local/lib/python3.10/dist-packages (from requests<3.0.0,>=2.13.0->spacy<3.8.0,>=3.7.0->es-core-news-sm==3.7.0) (2024.2.2)\n",
            "Requirement already satisfied: blis<0.8.0,>=0.7.8 in /usr/local/lib/python3.10/dist-packages (from thinc<8.3.0,>=8.2.2->spacy<3.8.0,>=3.7.0->es-core-news-sm==3.7.0) (0.7.11)\n",
            "Requirement already satisfied: confection<1.0.0,>=0.0.1 in /usr/local/lib/python3.10/dist-packages (from thinc<8.3.0,>=8.2.2->spacy<3.8.0,>=3.7.0->es-core-news-sm==3.7.0) (0.1.4)\n",
            "Requirement already satisfied: click<9.0.0,>=7.1.1 in /usr/local/lib/python3.10/dist-packages (from typer<0.10.0,>=0.3.0->spacy<3.8.0,>=3.7.0->es-core-news-sm==3.7.0) (8.1.7)\n",
            "Requirement already satisfied: cloudpathlib<0.17.0,>=0.7.0 in /usr/local/lib/python3.10/dist-packages (from weasel<0.4.0,>=0.1.0->spacy<3.8.0,>=3.7.0->es-core-news-sm==3.7.0) (0.16.0)\n",
            "Requirement already satisfied: MarkupSafe>=2.0 in /usr/local/lib/python3.10/dist-packages (from jinja2->spacy<3.8.0,>=3.7.0->es-core-news-sm==3.7.0) (2.1.5)\n",
            "Installing collected packages: es-core-news-sm\n",
            "Successfully installed es-core-news-sm-3.7.0\n",
            "\u001b[38;5;2m✔ Download and installation successful\u001b[0m\n",
            "You can now load the package via spacy.load('es_core_news_sm')\n",
            "\u001b[38;5;3m⚠ Restart to reload dependencies\u001b[0m\n",
            "If you are in a Jupyter or Colab notebook, you may need to restart Python in\n",
            "order to load all the package's dependencies. You can do this by selecting the\n",
            "'Restart kernel' or 'Restart runtime' option.\n"
          ]
        }
      ]
    },
    {
      "cell_type": "code",
      "source": [
        "# Cargar el modelo de spaCy para tokenizar oraciones\n",
        "nlp = spacy.load(\"es_core_news_sm\")\n"
      ],
      "metadata": {
        "id": "Bvb18ZrP4-HJ"
      },
      "execution_count": null,
      "outputs": []
    },
    {
      "cell_type": "code",
      "source": [
        "# Función para obtener los enunciados con las keywords\n",
        "def extract_keyword_sentences(row):\n",
        "    keywords = set(row['keyword'].split(', '))  # Convertir las keywords en un conjunto para eliminar duplicados\n",
        "    text = row['text']\n",
        "    doc = nlp(text)\n",
        "    found_sentences = set()  # Conjunto para almacenar las oraciones encontradas\n",
        "    for sentence in doc.sents:\n",
        "        # Verificar si la oración contiene al menos una de las keywords\n",
        "        if any(keyword.lower() in sentence.text.lower() for keyword in keywords):\n",
        "            found_sentences.add(sentence.text.strip())  # Agregar la oración al conjunto de oraciones encontradas\n",
        "    return '. '.join(found_sentences) if found_sentences else None  # Unir las oraciones encontradas en un solo texto"
      ],
      "metadata": {
        "id": "6ib0MeVz5Yth"
      },
      "execution_count": null,
      "outputs": []
    },
    {
      "cell_type": "code",
      "source": [
        "# Cargar los datos de entrenamiento\n",
        "data = pd.read_csv('SMM4H_2024_Task3_Training_1800.csv', nrows=1800, usecols=[0, 1, 2, 3], engine='python')\n",
        "# Filtrar el DataFrame para quedarse solo con las filas donde 'label' es diferente de 0\n",
        "data_filtered = data.loc[data['label'] != 0]\n"
      ],
      "metadata": {
        "id": "TWgNRqwv47-y"
      },
      "execution_count": null,
      "outputs": []
    },
    {
      "cell_type": "code",
      "source": [
        " # Filtrar y actualizar el texto con los enunciados que contienen las keywords\n",
        "data_filtered['text'] = data_filtered.apply(lambda row: extract_keyword_sentences(row), axis=1)\n",
        "# Convertir las etiquetas a un rango de 0 a 2\n",
        "data_filtered['label'] -= 1\n"
      ],
      "metadata": {
        "colab": {
          "base_uri": "https://localhost:8080/"
        },
        "id": "J0la69_W5gMj",
        "outputId": "7c38230c-dd43-42e3-dd46-f1f229b94dc2"
      },
      "execution_count": null,
      "outputs": [
        {
          "output_type": "stream",
          "name": "stderr",
          "text": [
            "<ipython-input-9-8b25d6b0a273>:2: SettingWithCopyWarning: \n",
            "A value is trying to be set on a copy of a slice from a DataFrame.\n",
            "Try using .loc[row_indexer,col_indexer] = value instead\n",
            "\n",
            "See the caveats in the documentation: https://pandas.pydata.org/pandas-docs/stable/user_guide/indexing.html#returning-a-view-versus-a-copy\n",
            "  data_filtered['text'] = data_filtered.apply(lambda row: extract_keyword_sentences(row), axis=1)\n",
            "<ipython-input-9-8b25d6b0a273>:4: SettingWithCopyWarning: \n",
            "A value is trying to be set on a copy of a slice from a DataFrame.\n",
            "Try using .loc[row_indexer,col_indexer] = value instead\n",
            "\n",
            "See the caveats in the documentation: https://pandas.pydata.org/pandas-docs/stable/user_guide/indexing.html#returning-a-view-versus-a-copy\n",
            "  data_filtered['label'] -= 1\n"
          ]
        }
      ]
    },
    {
      "cell_type": "code",
      "source": [
        "# Dividir los datos en entrenamiento y validación\n",
        "train_df, val_df = train_test_split(data_filtered, test_size=0.2, random_state=42)\n"
      ],
      "metadata": {
        "id": "qvWmELK1-or4"
      },
      "execution_count": null,
      "outputs": []
    },
    {
      "cell_type": "code",
      "source": [
        "# Estructurar los datos en formato de diccionario\n",
        "train_data = {\n",
        "    'text': train_df['text'].tolist(),\n",
        "    'label': train_df['label'].tolist()\n",
        "}\n",
        "\n",
        "val_data = {\n",
        "    'text': val_df['text'].tolist(),\n",
        "    'label': val_df['label'].tolist()\n",
        "}"
      ],
      "metadata": {
        "id": "FVY5yCa7-uQP"
      },
      "execution_count": null,
      "outputs": []
    },
    {
      "cell_type": "code",
      "source": [
        "# Cargar el tokenizador y el modelo\n",
        "tokenizer = RobertaTokenizer.from_pretrained('cardiffnlp/twitter-roberta-base-sentiment-latest', truncation=True, max_lenght=512)\n",
        "model = RobertaForSequenceClassification.from_pretrained('cardiffnlp/twitter-roberta-base-sentiment-latest')\n"
      ],
      "metadata": {
        "colab": {
          "base_uri": "https://localhost:8080/"
        },
        "id": "9dmuDvKc54Is",
        "outputId": "22ff7686-a188-4d47-e1fe-4c64ac983894"
      },
      "execution_count": null,
      "outputs": [
        {
          "output_type": "stream",
          "name": "stderr",
          "text": [
            "Some weights of the model checkpoint at cardiffnlp/twitter-roberta-base-sentiment-latest were not used when initializing RobertaForSequenceClassification: ['roberta.pooler.dense.bias', 'roberta.pooler.dense.weight']\n",
            "- This IS expected if you are initializing RobertaForSequenceClassification from the checkpoint of a model trained on another task or with another architecture (e.g. initializing a BertForSequenceClassification model from a BertForPreTraining model).\n",
            "- This IS NOT expected if you are initializing RobertaForSequenceClassification from the checkpoint of a model that you expect to be exactly identical (initializing a BertForSequenceClassification model from a BertForSequenceClassification model).\n"
          ]
        }
      ]
    },
    {
      "cell_type": "code",
      "source": [
        "# Función para realizar el preprocesamiento de los datos\n",
        "def preprocess_function(examples):\n",
        "    return tokenizer(examples['text'], truncation=True, max_length=512, padding=True)\n"
      ],
      "metadata": {
        "id": "civWJNcy56m2"
      },
      "execution_count": null,
      "outputs": []
    },
    {
      "cell_type": "code",
      "source": [
        "# Convertir los datos en objetos Dataset\n",
        "train_dataset = Dataset.from_dict(train_data)\n",
        "val_dataset = Dataset.from_dict(val_data)\n",
        "\n",
        "# Aplicar el preprocesamiento a los datasets\n",
        "train_dataset = train_dataset.map(preprocess_function, batched=True)\n",
        "val_dataset = val_dataset.map(preprocess_function, batched=True)"
      ],
      "metadata": {
        "colab": {
          "base_uri": "https://localhost:8080/",
          "height": 81,
          "referenced_widgets": [
            "bbcd989d566046ebb01e1767e5aae106",
            "4da6dfd878604947b99e472abb99b8d6",
            "92d347a3266b42289561de3b97f58925",
            "657d5845710142a39b41e53e4f8323a3",
            "0d1e2fe29f0e4ff4acd69b81c1299b9c",
            "3667b58c8807465f9b2c6385000a8888",
            "e03952d8dfd94697b556c3563db42968",
            "132acd68c72e47ea98d6d325ce1a5bc4",
            "cff745831acc43e491e61859e2bbc069",
            "ae4f4988d91c48fe853a25039712bb91",
            "9fa907208377419bba995831da131b41",
            "fc3651731ac149dc81fc1bb957a2b6d7",
            "b39c1aded4284b0aaa339c795abef1c8",
            "b66344b688a046bbbcfebf4e515aad40",
            "01cdda53ff984a7faacdba2b411485b8",
            "cccd371671584a8a85f9019b52afedd6",
            "827196f641604a25ac18f9211186b034",
            "fe1bc5b0df554444ac3f644d3c75eef9",
            "79c3e4649ff048ef9bdfd15b430c23ec",
            "70a2b863720a42c1b38f752496fb700f",
            "9688e2115b3445eaa2d750c58770a69b",
            "44a489440f8d4a23a1fff4001812c1b9"
          ]
        },
        "id": "yc_Ckpm358vs",
        "outputId": "060b4269-8d60-4070-d2d6-46020e7611ce"
      },
      "execution_count": null,
      "outputs": [
        {
          "output_type": "display_data",
          "data": {
            "text/plain": [
              "Map:   0%|          | 0/535 [00:00<?, ? examples/s]"
            ],
            "application/vnd.jupyter.widget-view+json": {
              "version_major": 2,
              "version_minor": 0,
              "model_id": "bbcd989d566046ebb01e1767e5aae106"
            }
          },
          "metadata": {}
        },
        {
          "output_type": "display_data",
          "data": {
            "text/plain": [
              "Map:   0%|          | 0/134 [00:00<?, ? examples/s]"
            ],
            "application/vnd.jupyter.widget-view+json": {
              "version_major": 2,
              "version_minor": 0,
              "model_id": "fc3651731ac149dc81fc1bb957a2b6d7"
            }
          },
          "metadata": {}
        }
      ]
    },
    {
      "cell_type": "code",
      "source": [
        "# Configurar los argumentos de entrenamiento\n",
        "training_args = TrainingArguments(\n",
        "    output_dir='./results',\n",
        "    num_train_epochs=4,\n",
        "    learning_rate=1e-5,\n",
        "    per_device_train_batch_size=8,\n",
        "    per_device_eval_batch_size=8,\n",
        "    warmup_steps=500,\n",
        "    weight_decay=0.01,\n",
        "    logging_dir='./logs',\n",
        "    logging_steps=100,\n",
        "    evaluation_strategy='epoch',\n",
        "    save_strategy='epoch'\n",
        ")\n"
      ],
      "metadata": {
        "id": "MUIXPTL65_HG"
      },
      "execution_count": null,
      "outputs": []
    },
    {
      "cell_type": "code",
      "source": [
        "# Iniciar el entrenamiento\n",
        "trainer = Trainer(\n",
        "    model=model,\n",
        "    args=training_args,\n",
        "    train_dataset=train_dataset,\n",
        "    eval_dataset=val_dataset\n",
        ")\n",
        "\n",
        "# Entrenar el modelo\n",
        "trainer.train()\n"
      ],
      "metadata": {
        "colab": {
          "base_uri": "https://localhost:8080/",
          "height": 325
        },
        "id": "UaU6djBh6BtZ",
        "outputId": "8622e33e-c962-48dc-8ca5-8386aebe2310"
      },
      "execution_count": null,
      "outputs": [
        {
          "output_type": "stream",
          "name": "stderr",
          "text": [
            "/usr/local/lib/python3.10/dist-packages/accelerate/accelerator.py:436: FutureWarning: Passing the following arguments to `Accelerator` is deprecated and will be removed in version 1.0 of Accelerate: dict_keys(['dispatch_batches', 'split_batches', 'even_batches', 'use_seedable_sampler']). Please pass an `accelerate.DataLoaderConfiguration` instead: \n",
            "dataloader_config = DataLoaderConfiguration(dispatch_batches=None, split_batches=False, even_batches=True, use_seedable_sampler=True)\n",
            "  warnings.warn(\n"
          ]
        },
        {
          "output_type": "display_data",
          "data": {
            "text/plain": [
              "<IPython.core.display.HTML object>"
            ],
            "text/html": [
              "\n",
              "    <div>\n",
              "      \n",
              "      <progress value='268' max='268' style='width:300px; height:20px; vertical-align: middle;'></progress>\n",
              "      [268/268 03:48, Epoch 4/4]\n",
              "    </div>\n",
              "    <table border=\"1\" class=\"dataframe\">\n",
              "  <thead>\n",
              " <tr style=\"text-align: left;\">\n",
              "      <th>Epoch</th>\n",
              "      <th>Training Loss</th>\n",
              "      <th>Validation Loss</th>\n",
              "    </tr>\n",
              "  </thead>\n",
              "  <tbody>\n",
              "    <tr>\n",
              "      <td>1</td>\n",
              "      <td>No log</td>\n",
              "      <td>1.644224</td>\n",
              "    </tr>\n",
              "    <tr>\n",
              "      <td>2</td>\n",
              "      <td>1.373100</td>\n",
              "      <td>1.118114</td>\n",
              "    </tr>\n",
              "    <tr>\n",
              "      <td>3</td>\n",
              "      <td>0.897200</td>\n",
              "      <td>0.923941</td>\n",
              "    </tr>\n",
              "    <tr>\n",
              "      <td>4</td>\n",
              "      <td>0.897200</td>\n",
              "      <td>0.790036</td>\n",
              "    </tr>\n",
              "  </tbody>\n",
              "</table><p>"
            ]
          },
          "metadata": {}
        },
        {
          "output_type": "execute_result",
          "data": {
            "text/plain": [
              "TrainOutput(global_step=268, training_loss=1.0332547657525362, metrics={'train_runtime': 231.3288, 'train_samples_per_second': 9.251, 'train_steps_per_second': 1.159, 'total_flos': 563062713937920.0, 'train_loss': 1.0332547657525362, 'epoch': 4.0})"
            ]
          },
          "metadata": {},
          "execution_count": 36
        }
      ]
    },
    {
      "cell_type": "code",
      "source": [
        "import shutil\n",
        "from google.colab import drive\n",
        "\n",
        "# Monta Google Drive\n",
        "drive.mount('/content/drive')\n",
        "\n",
        "# Define la ruta de la carpeta que deseas guardar en Google Drive\n",
        "carpeta_colab = '/content/results'  # Cambia esto por la ruta de tu carpeta en Colab\n",
        "carpeta_drive = '/content/drive/MyDrive/FINE_SENTIMENT_1'  # Cambia esto por la ruta donde deseas guardar la carpeta en Drive\n",
        "\n",
        "# Copia la carpeta de Colab a Drive\n",
        "shutil.copytree(carpeta_colab, carpeta_drive)"
      ],
      "metadata": {
        "colab": {
          "base_uri": "https://localhost:8080/",
          "height": 53
        },
        "id": "4-fRC35o_gHr",
        "outputId": "1b8b9d7e-6e29-4bfc-c25c-1e26f2477ec7"
      },
      "execution_count": null,
      "outputs": [
        {
          "output_type": "stream",
          "name": "stdout",
          "text": [
            "Mounted at /content/drive\n"
          ]
        },
        {
          "output_type": "execute_result",
          "data": {
            "text/plain": [
              "'/content/drive/MyDrive/FINE_SENTIMENT_1'"
            ],
            "application/vnd.google.colaboratory.intrinsic+json": {
              "type": "string"
            }
          },
          "metadata": {},
          "execution_count": 37
        }
      ]
    },
    {
      "cell_type": "markdown",
      "source": [
        "### **PRUEBA DE MODELO REEENTRENADO CON DATOS DE VALIDACIÓN CODALAB**"
      ],
      "metadata": {
        "id": "R5QRdah4BgwE"
      }
    },
    {
      "cell_type": "code",
      "source": [
        "from transformers import RobertaTokenizer, RobertaForSequenceClassification, pipeline\n",
        "\n",
        "# Ruta del modelo entrenado en Google Drive\n",
        "modelo_entrenado_path = '/content/drive/MyDrive/FINE_SENTIMENT_1/checkpoint-268'\n",
        "\n",
        "# Cargar el tokenizador y el modelo\n",
        "tokenizer = RobertaTokenizer.from_pretrained('cardiffnlp/twitter-roberta-base-sentiment-latest')\n",
        "model = RobertaForSequenceClassification.from_pretrained(modelo_entrenado_path)\n",
        "\n",
        "# Crear el clasificador de sentimiento\n",
        "sentiment_task = pipeline('sentiment-analysis', model=model, tokenizer=tokenizer)\n"
      ],
      "metadata": {
        "id": "dL9VuSuYBkyV"
      },
      "execution_count": null,
      "outputs": []
    },
    {
      "cell_type": "code",
      "source": [
        "# Cargar los datos de validación\n",
        "datos_validacion = pd.read_csv('SMM4H_2024_Task3_Validation_600_codalab.csv', usecols=[0,1,2,3])\n",
        "\n",
        "# Filtrar el DataFrame para quedarse solo con las filas donde 'label' es diferente de 0\n",
        "datos_validacion = datos_validacion.loc[datos_validacion['label'] != 0]\n"
      ],
      "metadata": {
        "id": "6DYLmLiECxOO"
      },
      "execution_count": null,
      "outputs": []
    },
    {
      "cell_type": "code",
      "source": [
        " # Filtrar y actualizar el texto con los enunciados que contienen las keywords\n",
        "datos_validacion['text'] = datos_validacion.apply(lambda row: extract_keyword_sentences(row), axis=1)"
      ],
      "metadata": {
        "id": "jW45Zr43DkT_"
      },
      "execution_count": null,
      "outputs": []
    },
    {
      "cell_type": "code",
      "source": [
        "# Aplicar el clasificador de sentimiento a los textos del archivo\n",
        "resultados = []\n",
        "for texto in datos_validacion['text']:\n",
        "    output = sentiment_task(texto)\n",
        "    resultados.append(output)\n",
        "\n",
        "# Imprimir los resultados\n",
        "for i, resultado in enumerate(resultados):\n",
        "    print(f\"Texto {i+1}: {resultado}\")"
      ],
      "metadata": {
        "colab": {
          "base_uri": "https://localhost:8080/"
        },
        "id": "QU4fSOepD8sW",
        "outputId": "2c89eca7-f64a-4431-a866-2e2bdd49316b"
      },
      "execution_count": null,
      "outputs": [
        {
          "output_type": "stream",
          "name": "stdout",
          "text": [
            "Texto 1: [{'label': 'neutral', 'score': 0.6765705347061157}]\n",
            "Texto 2: [{'label': 'neutral', 'score': 0.9574296474456787}]\n",
            "Texto 3: [{'label': 'neutral', 'score': 0.8018009066581726}]\n",
            "Texto 4: [{'label': 'neutral', 'score': 0.6241645216941833}]\n",
            "Texto 5: [{'label': 'neutral', 'score': 0.6836655735969543}]\n",
            "Texto 6: [{'label': 'neutral', 'score': 0.6055567264556885}]\n",
            "Texto 7: [{'label': 'neutral', 'score': 0.7119956612586975}]\n",
            "Texto 8: [{'label': 'positive', 'score': 0.49443313479423523}]\n",
            "Texto 9: [{'label': 'positive', 'score': 0.36021366715431213}]\n",
            "Texto 10: [{'label': 'neutral', 'score': 0.49724435806274414}]\n",
            "Texto 11: [{'label': 'neutral', 'score': 0.8394274115562439}]\n",
            "Texto 12: [{'label': 'neutral', 'score': 0.8630181550979614}]\n",
            "Texto 13: [{'label': 'neutral', 'score': 0.8131124377250671}]\n",
            "Texto 14: [{'label': 'negative', 'score': 0.5863868594169617}]\n",
            "Texto 15: [{'label': 'neutral', 'score': 0.898335337638855}]\n",
            "Texto 16: [{'label': 'neutral', 'score': 0.625194251537323}]\n",
            "Texto 17: [{'label': 'neutral', 'score': 0.5549052953720093}]\n",
            "Texto 18: [{'label': 'neutral', 'score': 0.7762933969497681}]\n",
            "Texto 19: [{'label': 'neutral', 'score': 0.8261935710906982}]\n",
            "Texto 20: [{'label': 'neutral', 'score': 0.4716569781303406}]\n",
            "Texto 21: [{'label': 'neutral', 'score': 0.7220221757888794}]\n",
            "Texto 22: [{'label': 'neutral', 'score': 0.554527997970581}]\n",
            "Texto 23: [{'label': 'positive', 'score': 0.5595818161964417}]\n",
            "Texto 24: [{'label': 'neutral', 'score': 0.6750436425209045}]\n",
            "Texto 25: [{'label': 'neutral', 'score': 0.7745885252952576}]\n",
            "Texto 26: [{'label': 'neutral', 'score': 0.8074184060096741}]\n",
            "Texto 27: [{'label': 'neutral', 'score': 0.9500580430030823}]\n",
            "Texto 28: [{'label': 'neutral', 'score': 0.7406564354896545}]\n",
            "Texto 29: [{'label': 'negative', 'score': 0.5729355812072754}]\n",
            "Texto 30: [{'label': 'negative', 'score': 0.629898726940155}]\n",
            "Texto 31: [{'label': 'negative', 'score': 0.8070839643478394}]\n",
            "Texto 32: [{'label': 'neutral', 'score': 0.47616979479789734}]\n",
            "Texto 33: [{'label': 'neutral', 'score': 0.7240633964538574}]\n",
            "Texto 34: [{'label': 'negative', 'score': 0.6379199624061584}]\n",
            "Texto 35: [{'label': 'neutral', 'score': 0.5259391069412231}]\n",
            "Texto 36: [{'label': 'neutral', 'score': 0.7492611408233643}]\n",
            "Texto 37: [{'label': 'negative', 'score': 0.6265004277229309}]\n",
            "Texto 38: [{'label': 'neutral', 'score': 0.8305662870407104}]\n",
            "Texto 39: [{'label': 'negative', 'score': 0.6362966895103455}]\n",
            "Texto 40: [{'label': 'neutral', 'score': 0.7170877456665039}]\n",
            "Texto 41: [{'label': 'neutral', 'score': 0.7347311973571777}]\n",
            "Texto 42: [{'label': 'neutral', 'score': 0.610628068447113}]\n",
            "Texto 43: [{'label': 'neutral', 'score': 0.49389731884002686}]\n",
            "Texto 44: [{'label': 'positive', 'score': 0.5340337753295898}]\n",
            "Texto 45: [{'label': 'neutral', 'score': 0.6480672359466553}]\n",
            "Texto 46: [{'label': 'negative', 'score': 0.6337440013885498}]\n",
            "Texto 47: [{'label': 'neutral', 'score': 0.9680188894271851}]\n",
            "Texto 48: [{'label': 'neutral', 'score': 0.7576536536216736}]\n",
            "Texto 49: [{'label': 'neutral', 'score': 0.6956802010536194}]\n",
            "Texto 50: [{'label': 'neutral', 'score': 0.9065253734588623}]\n",
            "Texto 51: [{'label': 'neutral', 'score': 0.7322621941566467}]\n",
            "Texto 52: [{'label': 'neutral', 'score': 0.6426251530647278}]\n",
            "Texto 53: [{'label': 'negative', 'score': 0.848453938961029}]\n",
            "Texto 54: [{'label': 'negative', 'score': 0.5835450887680054}]\n",
            "Texto 55: [{'label': 'positive', 'score': 0.6996773481369019}]\n",
            "Texto 56: [{'label': 'positive', 'score': 0.6494605541229248}]\n",
            "Texto 57: [{'label': 'positive', 'score': 0.5794079899787903}]\n",
            "Texto 58: [{'label': 'positive', 'score': 0.518711268901825}]\n",
            "Texto 59: [{'label': 'neutral', 'score': 0.7209293246269226}]\n",
            "Texto 60: [{'label': 'neutral', 'score': 0.821266233921051}]\n",
            "Texto 61: [{'label': 'neutral', 'score': 0.6634505391120911}]\n",
            "Texto 62: [{'label': 'neutral', 'score': 0.6100736856460571}]\n",
            "Texto 63: [{'label': 'neutral', 'score': 0.7560579180717468}]\n",
            "Texto 64: [{'label': 'positive', 'score': 0.5982845425605774}]\n",
            "Texto 65: [{'label': 'neutral', 'score': 0.8483240008354187}]\n",
            "Texto 66: [{'label': 'neutral', 'score': 0.9047492742538452}]\n",
            "Texto 67: [{'label': 'neutral', 'score': 0.702012836933136}]\n",
            "Texto 68: [{'label': 'positive', 'score': 0.4619629681110382}]\n",
            "Texto 69: [{'label': 'neutral', 'score': 0.5697923898696899}]\n",
            "Texto 70: [{'label': 'neutral', 'score': 0.8553067445755005}]\n",
            "Texto 71: [{'label': 'positive', 'score': 0.47747328877449036}]\n",
            "Texto 72: [{'label': 'neutral', 'score': 0.6136310696601868}]\n",
            "Texto 73: [{'label': 'neutral', 'score': 0.5699387192726135}]\n",
            "Texto 74: [{'label': 'positive', 'score': 0.6025491952896118}]\n",
            "Texto 75: [{'label': 'positive', 'score': 0.49459323287010193}]\n",
            "Texto 76: [{'label': 'neutral', 'score': 0.817497730255127}]\n",
            "Texto 77: [{'label': 'neutral', 'score': 0.7478487491607666}]\n",
            "Texto 78: [{'label': 'neutral', 'score': 0.6255380511283875}]\n",
            "Texto 79: [{'label': 'positive', 'score': 0.6744122505187988}]\n",
            "Texto 80: [{'label': 'neutral', 'score': 0.5930238962173462}]\n",
            "Texto 81: [{'label': 'neutral', 'score': 0.7244675755500793}]\n",
            "Texto 82: [{'label': 'neutral', 'score': 0.5028669834136963}]\n",
            "Texto 83: [{'label': 'positive', 'score': 0.5510372519493103}]\n",
            "Texto 84: [{'label': 'positive', 'score': 0.6340430974960327}]\n",
            "Texto 85: [{'label': 'neutral', 'score': 0.4904665946960449}]\n",
            "Texto 86: [{'label': 'positive', 'score': 0.7501465082168579}]\n",
            "Texto 87: [{'label': 'positive', 'score': 0.6521621346473694}]\n",
            "Texto 88: [{'label': 'neutral', 'score': 0.4847807288169861}]\n",
            "Texto 89: [{'label': 'positive', 'score': 0.620564877986908}]\n",
            "Texto 90: [{'label': 'neutral', 'score': 0.4159379303455353}]\n",
            "Texto 91: [{'label': 'neutral', 'score': 0.5301799774169922}]\n",
            "Texto 92: [{'label': 'positive', 'score': 0.7117606401443481}]\n",
            "Texto 93: [{'label': 'negative', 'score': 0.6767098903656006}]\n",
            "Texto 94: [{'label': 'neutral', 'score': 0.8845345377922058}]\n",
            "Texto 95: [{'label': 'neutral', 'score': 0.5180019736289978}]\n",
            "Texto 96: [{'label': 'neutral', 'score': 0.9217351078987122}]\n",
            "Texto 97: [{'label': 'neutral', 'score': 0.9320226907730103}]\n",
            "Texto 98: [{'label': 'neutral', 'score': 0.8238211274147034}]\n",
            "Texto 99: [{'label': 'neutral', 'score': 0.9247416257858276}]\n",
            "Texto 100: [{'label': 'neutral', 'score': 0.4936200678348541}]\n",
            "Texto 101: [{'label': 'neutral', 'score': 0.9281420111656189}]\n",
            "Texto 102: [{'label': 'neutral', 'score': 0.9410828948020935}]\n",
            "Texto 103: [{'label': 'neutral', 'score': 0.9145005941390991}]\n",
            "Texto 104: [{'label': 'neutral', 'score': 0.7815707921981812}]\n",
            "Texto 105: [{'label': 'neutral', 'score': 0.8862034678459167}]\n",
            "Texto 106: [{'label': 'neutral', 'score': 0.557375967502594}]\n",
            "Texto 107: [{'label': 'neutral', 'score': 0.6525467038154602}]\n",
            "Texto 108: [{'label': 'neutral', 'score': 0.800469160079956}]\n",
            "Texto 109: [{'label': 'neutral', 'score': 0.9511712193489075}]\n",
            "Texto 110: [{'label': 'neutral', 'score': 0.510502815246582}]\n",
            "Texto 111: [{'label': 'positive', 'score': 0.4378165602684021}]\n",
            "Texto 112: [{'label': 'neutral', 'score': 0.834007978439331}]\n",
            "Texto 113: [{'label': 'neutral', 'score': 0.8495557904243469}]\n",
            "Texto 114: [{'label': 'neutral', 'score': 0.9705160856246948}]\n",
            "Texto 115: [{'label': 'neutral', 'score': 0.9256725907325745}]\n",
            "Texto 116: [{'label': 'neutral', 'score': 0.9464839696884155}]\n",
            "Texto 117: [{'label': 'neutral', 'score': 0.8193758130073547}]\n",
            "Texto 118: [{'label': 'neutral', 'score': 0.8398932218551636}]\n",
            "Texto 119: [{'label': 'neutral', 'score': 0.806973934173584}]\n",
            "Texto 120: [{'label': 'neutral', 'score': 0.8688187003135681}]\n",
            "Texto 121: [{'label': 'negative', 'score': 0.5538885593414307}]\n",
            "Texto 122: [{'label': 'neutral', 'score': 0.9703869223594666}]\n",
            "Texto 123: [{'label': 'neutral', 'score': 0.5946407914161682}]\n",
            "Texto 124: [{'label': 'neutral', 'score': 0.6222440004348755}]\n",
            "Texto 125: [{'label': 'neutral', 'score': 0.7112323045730591}]\n",
            "Texto 126: [{'label': 'neutral', 'score': 0.9369431734085083}]\n",
            "Texto 127: [{'label': 'neutral', 'score': 0.922464907169342}]\n",
            "Texto 128: [{'label': 'neutral', 'score': 0.6305489540100098}]\n",
            "Texto 129: [{'label': 'neutral', 'score': 0.8130273222923279}]\n",
            "Texto 130: [{'label': 'neutral', 'score': 0.9607353806495667}]\n",
            "Texto 131: [{'label': 'neutral', 'score': 0.7916411757469177}]\n",
            "Texto 132: [{'label': 'neutral', 'score': 0.7092173099517822}]\n",
            "Texto 133: [{'label': 'neutral', 'score': 0.9524336457252502}]\n",
            "Texto 134: [{'label': 'neutral', 'score': 0.897904098033905}]\n",
            "Texto 135: [{'label': 'neutral', 'score': 0.952534556388855}]\n",
            "Texto 136: [{'label': 'neutral', 'score': 0.9426225423812866}]\n",
            "Texto 137: [{'label': 'neutral', 'score': 0.8807709813117981}]\n",
            "Texto 138: [{'label': 'positive', 'score': 0.42881324887275696}]\n",
            "Texto 139: [{'label': 'neutral', 'score': 0.9378140568733215}]\n",
            "Texto 140: [{'label': 'neutral', 'score': 0.837079644203186}]\n",
            "Texto 141: [{'label': 'neutral', 'score': 0.9004618525505066}]\n",
            "Texto 142: [{'label': 'neutral', 'score': 0.9499493837356567}]\n",
            "Texto 143: [{'label': 'neutral', 'score': 0.9691647887229919}]\n",
            "Texto 144: [{'label': 'neutral', 'score': 0.5130845904350281}]\n",
            "Texto 145: [{'label': 'neutral', 'score': 0.835320770740509}]\n",
            "Texto 146: [{'label': 'neutral', 'score': 0.6732874512672424}]\n",
            "Texto 147: [{'label': 'neutral', 'score': 0.5333565473556519}]\n",
            "Texto 148: [{'label': 'neutral', 'score': 0.9484160542488098}]\n",
            "Texto 149: [{'label': 'neutral', 'score': 0.9460435509681702}]\n",
            "Texto 150: [{'label': 'neutral', 'score': 0.8827467560768127}]\n",
            "Texto 151: [{'label': 'neutral', 'score': 0.9202719330787659}]\n",
            "Texto 152: [{'label': 'neutral', 'score': 0.8156912326812744}]\n",
            "Texto 153: [{'label': 'neutral', 'score': 0.9438905119895935}]\n",
            "Texto 154: [{'label': 'neutral', 'score': 0.6929445266723633}]\n",
            "Texto 155: [{'label': 'neutral', 'score': 0.9570645093917847}]\n",
            "Texto 156: [{'label': 'neutral', 'score': 0.7527203559875488}]\n",
            "Texto 157: [{'label': 'neutral', 'score': 0.5116199851036072}]\n",
            "Texto 158: [{'label': 'neutral', 'score': 0.5887571573257446}]\n",
            "Texto 159: [{'label': 'neutral', 'score': 0.8544872403144836}]\n",
            "Texto 160: [{'label': 'neutral', 'score': 0.9687009453773499}]\n",
            "Texto 161: [{'label': 'neutral', 'score': 0.939245879650116}]\n",
            "Texto 162: [{'label': 'neutral', 'score': 0.8288134932518005}]\n",
            "Texto 163: [{'label': 'neutral', 'score': 0.5259339213371277}]\n",
            "Texto 164: [{'label': 'neutral', 'score': 0.8835211992263794}]\n",
            "Texto 165: [{'label': 'neutral', 'score': 0.8052610158920288}]\n",
            "Texto 166: [{'label': 'neutral', 'score': 0.9490315914154053}]\n",
            "Texto 167: [{'label': 'neutral', 'score': 0.8282818794250488}]\n",
            "Texto 168: [{'label': 'neutral', 'score': 0.8481918573379517}]\n",
            "Texto 169: [{'label': 'neutral', 'score': 0.7542058229446411}]\n",
            "Texto 170: [{'label': 'neutral', 'score': 0.9667617082595825}]\n",
            "Texto 171: [{'label': 'neutral', 'score': 0.964409351348877}]\n",
            "Texto 172: [{'label': 'neutral', 'score': 0.8779461979866028}]\n",
            "Texto 173: [{'label': 'neutral', 'score': 0.5350939035415649}]\n",
            "Texto 174: [{'label': 'neutral', 'score': 0.9434934854507446}]\n",
            "Texto 175: [{'label': 'neutral', 'score': 0.6125990152359009}]\n",
            "Texto 176: [{'label': 'neutral', 'score': 0.8712941408157349}]\n",
            "Texto 177: [{'label': 'neutral', 'score': 0.7502053380012512}]\n",
            "Texto 178: [{'label': 'neutral', 'score': 0.5703158974647522}]\n",
            "Texto 179: [{'label': 'neutral', 'score': 0.7705788612365723}]\n",
            "Texto 180: [{'label': 'neutral', 'score': 0.8321949243545532}]\n",
            "Texto 181: [{'label': 'neutral', 'score': 0.8704591393470764}]\n",
            "Texto 182: [{'label': 'negative', 'score': 0.6560436487197876}]\n",
            "Texto 183: [{'label': 'neutral', 'score': 0.9401854276657104}]\n",
            "Texto 184: [{'label': 'neutral', 'score': 0.918616533279419}]\n",
            "Texto 185: [{'label': 'neutral', 'score': 0.908705472946167}]\n",
            "Texto 186: [{'label': 'neutral', 'score': 0.8969194889068604}]\n",
            "Texto 187: [{'label': 'neutral', 'score': 0.9624581336975098}]\n",
            "Texto 188: [{'label': 'neutral', 'score': 0.6299158334732056}]\n",
            "Texto 189: [{'label': 'neutral', 'score': 0.9293212890625}]\n",
            "Texto 190: [{'label': 'neutral', 'score': 0.9152934551239014}]\n",
            "Texto 191: [{'label': 'neutral', 'score': 0.9167404770851135}]\n",
            "Texto 192: [{'label': 'neutral', 'score': 0.9071694016456604}]\n",
            "Texto 193: [{'label': 'neutral', 'score': 0.6827810406684875}]\n",
            "Texto 194: [{'label': 'neutral', 'score': 0.7461129426956177}]\n",
            "Texto 195: [{'label': 'neutral', 'score': 0.9658714532852173}]\n",
            "Texto 196: [{'label': 'neutral', 'score': 0.9509131908416748}]\n",
            "Texto 197: [{'label': 'positive', 'score': 0.5804532170295715}]\n",
            "Texto 198: [{'label': 'neutral', 'score': 0.8032886385917664}]\n",
            "Texto 199: [{'label': 'neutral', 'score': 0.4580882489681244}]\n",
            "Texto 200: [{'label': 'neutral', 'score': 0.9582417011260986}]\n",
            "Texto 201: [{'label': 'neutral', 'score': 0.9173116087913513}]\n",
            "Texto 202: [{'label': 'neutral', 'score': 0.8210965394973755}]\n",
            "Texto 203: [{'label': 'neutral', 'score': 0.8106334209442139}]\n",
            "Texto 204: [{'label': 'neutral', 'score': 0.6141974925994873}]\n",
            "Texto 205: [{'label': 'neutral', 'score': 0.8958316445350647}]\n",
            "Texto 206: [{'label': 'neutral', 'score': 0.962067186832428}]\n",
            "Texto 207: [{'label': 'neutral', 'score': 0.7748525738716125}]\n",
            "Texto 208: [{'label': 'neutral', 'score': 0.6973090171813965}]\n",
            "Texto 209: [{'label': 'neutral', 'score': 0.6854543685913086}]\n",
            "Texto 210: [{'label': 'neutral', 'score': 0.7443520426750183}]\n",
            "Texto 211: [{'label': 'neutral', 'score': 0.7384189963340759}]\n",
            "Texto 212: [{'label': 'neutral', 'score': 0.9114667773246765}]\n",
            "Texto 213: [{'label': 'neutral', 'score': 0.9598800539970398}]\n",
            "Texto 214: [{'label': 'neutral', 'score': 0.7553024888038635}]\n",
            "Texto 215: [{'label': 'neutral', 'score': 0.935021162033081}]\n",
            "Texto 216: [{'label': 'neutral', 'score': 0.8279804587364197}]\n",
            "Texto 217: [{'label': 'neutral', 'score': 0.722373366355896}]\n",
            "Texto 218: [{'label': 'neutral', 'score': 0.9167719483375549}]\n",
            "Texto 219: [{'label': 'positive', 'score': 0.5416416525840759}]\n",
            "Texto 220: [{'label': 'neutral', 'score': 0.8866354823112488}]\n",
            "Texto 221: [{'label': 'neutral', 'score': 0.8375577330589294}]\n",
            "Texto 222: [{'label': 'neutral', 'score': 0.6524381637573242}]\n",
            "Texto 223: [{'label': 'neutral', 'score': 0.7763147950172424}]\n"
          ]
        }
      ]
    },
    {
      "cell_type": "code",
      "source": [
        "print(resultados)"
      ],
      "metadata": {
        "colab": {
          "base_uri": "https://localhost:8080/"
        },
        "id": "cbh_87E2EA0T",
        "outputId": "ea5de9c2-cc53-45b4-f332-f7679cded516"
      },
      "execution_count": null,
      "outputs": [
        {
          "output_type": "stream",
          "name": "stdout",
          "text": [
            "[[{'label': 'neutral', 'score': 0.6765705347061157}], [{'label': 'neutral', 'score': 0.9574296474456787}], [{'label': 'neutral', 'score': 0.8018009066581726}], [{'label': 'neutral', 'score': 0.6241645216941833}], [{'label': 'neutral', 'score': 0.6836655735969543}], [{'label': 'neutral', 'score': 0.6055567264556885}], [{'label': 'neutral', 'score': 0.7119956612586975}], [{'label': 'positive', 'score': 0.49443313479423523}], [{'label': 'positive', 'score': 0.36021366715431213}], [{'label': 'neutral', 'score': 0.49724435806274414}], [{'label': 'neutral', 'score': 0.8394274115562439}], [{'label': 'neutral', 'score': 0.8630181550979614}], [{'label': 'neutral', 'score': 0.8131124377250671}], [{'label': 'negative', 'score': 0.5863868594169617}], [{'label': 'neutral', 'score': 0.898335337638855}], [{'label': 'neutral', 'score': 0.625194251537323}], [{'label': 'neutral', 'score': 0.5549052953720093}], [{'label': 'neutral', 'score': 0.7762933969497681}], [{'label': 'neutral', 'score': 0.8261935710906982}], [{'label': 'neutral', 'score': 0.4716569781303406}], [{'label': 'neutral', 'score': 0.7220221757888794}], [{'label': 'neutral', 'score': 0.554527997970581}], [{'label': 'positive', 'score': 0.5595818161964417}], [{'label': 'neutral', 'score': 0.6750436425209045}], [{'label': 'neutral', 'score': 0.7745885252952576}], [{'label': 'neutral', 'score': 0.8074184060096741}], [{'label': 'neutral', 'score': 0.9500580430030823}], [{'label': 'neutral', 'score': 0.7406564354896545}], [{'label': 'negative', 'score': 0.5729355812072754}], [{'label': 'negative', 'score': 0.629898726940155}], [{'label': 'negative', 'score': 0.8070839643478394}], [{'label': 'neutral', 'score': 0.47616979479789734}], [{'label': 'neutral', 'score': 0.7240633964538574}], [{'label': 'negative', 'score': 0.6379199624061584}], [{'label': 'neutral', 'score': 0.5259391069412231}], [{'label': 'neutral', 'score': 0.7492611408233643}], [{'label': 'negative', 'score': 0.6265004277229309}], [{'label': 'neutral', 'score': 0.8305662870407104}], [{'label': 'negative', 'score': 0.6362966895103455}], [{'label': 'neutral', 'score': 0.7170877456665039}], [{'label': 'neutral', 'score': 0.7347311973571777}], [{'label': 'neutral', 'score': 0.610628068447113}], [{'label': 'neutral', 'score': 0.49389731884002686}], [{'label': 'positive', 'score': 0.5340337753295898}], [{'label': 'neutral', 'score': 0.6480672359466553}], [{'label': 'negative', 'score': 0.6337440013885498}], [{'label': 'neutral', 'score': 0.9680188894271851}], [{'label': 'neutral', 'score': 0.7576536536216736}], [{'label': 'neutral', 'score': 0.6956802010536194}], [{'label': 'neutral', 'score': 0.9065253734588623}], [{'label': 'neutral', 'score': 0.7322621941566467}], [{'label': 'neutral', 'score': 0.6426251530647278}], [{'label': 'negative', 'score': 0.848453938961029}], [{'label': 'negative', 'score': 0.5835450887680054}], [{'label': 'positive', 'score': 0.6996773481369019}], [{'label': 'positive', 'score': 0.6494605541229248}], [{'label': 'positive', 'score': 0.5794079899787903}], [{'label': 'positive', 'score': 0.518711268901825}], [{'label': 'neutral', 'score': 0.7209293246269226}], [{'label': 'neutral', 'score': 0.821266233921051}], [{'label': 'neutral', 'score': 0.6634505391120911}], [{'label': 'neutral', 'score': 0.6100736856460571}], [{'label': 'neutral', 'score': 0.7560579180717468}], [{'label': 'positive', 'score': 0.5982845425605774}], [{'label': 'neutral', 'score': 0.8483240008354187}], [{'label': 'neutral', 'score': 0.9047492742538452}], [{'label': 'neutral', 'score': 0.702012836933136}], [{'label': 'positive', 'score': 0.4619629681110382}], [{'label': 'neutral', 'score': 0.5697923898696899}], [{'label': 'neutral', 'score': 0.8553067445755005}], [{'label': 'positive', 'score': 0.47747328877449036}], [{'label': 'neutral', 'score': 0.6136310696601868}], [{'label': 'neutral', 'score': 0.5699387192726135}], [{'label': 'positive', 'score': 0.6025491952896118}], [{'label': 'positive', 'score': 0.49459323287010193}], [{'label': 'neutral', 'score': 0.817497730255127}], [{'label': 'neutral', 'score': 0.7478487491607666}], [{'label': 'neutral', 'score': 0.6255380511283875}], [{'label': 'positive', 'score': 0.6744122505187988}], [{'label': 'neutral', 'score': 0.5930238962173462}], [{'label': 'neutral', 'score': 0.7244675755500793}], [{'label': 'neutral', 'score': 0.5028669834136963}], [{'label': 'positive', 'score': 0.5510372519493103}], [{'label': 'positive', 'score': 0.6340430974960327}], [{'label': 'neutral', 'score': 0.4904665946960449}], [{'label': 'positive', 'score': 0.7501465082168579}], [{'label': 'positive', 'score': 0.6521621346473694}], [{'label': 'neutral', 'score': 0.4847807288169861}], [{'label': 'positive', 'score': 0.620564877986908}], [{'label': 'neutral', 'score': 0.4159379303455353}], [{'label': 'neutral', 'score': 0.5301799774169922}], [{'label': 'positive', 'score': 0.7117606401443481}], [{'label': 'negative', 'score': 0.6767098903656006}], [{'label': 'neutral', 'score': 0.8845345377922058}], [{'label': 'neutral', 'score': 0.5180019736289978}], [{'label': 'neutral', 'score': 0.9217351078987122}], [{'label': 'neutral', 'score': 0.9320226907730103}], [{'label': 'neutral', 'score': 0.8238211274147034}], [{'label': 'neutral', 'score': 0.9247416257858276}], [{'label': 'neutral', 'score': 0.4936200678348541}], [{'label': 'neutral', 'score': 0.9281420111656189}], [{'label': 'neutral', 'score': 0.9410828948020935}], [{'label': 'neutral', 'score': 0.9145005941390991}], [{'label': 'neutral', 'score': 0.7815707921981812}], [{'label': 'neutral', 'score': 0.8862034678459167}], [{'label': 'neutral', 'score': 0.557375967502594}], [{'label': 'neutral', 'score': 0.6525467038154602}], [{'label': 'neutral', 'score': 0.800469160079956}], [{'label': 'neutral', 'score': 0.9511712193489075}], [{'label': 'neutral', 'score': 0.510502815246582}], [{'label': 'positive', 'score': 0.4378165602684021}], [{'label': 'neutral', 'score': 0.834007978439331}], [{'label': 'neutral', 'score': 0.8495557904243469}], [{'label': 'neutral', 'score': 0.9705160856246948}], [{'label': 'neutral', 'score': 0.9256725907325745}], [{'label': 'neutral', 'score': 0.9464839696884155}], [{'label': 'neutral', 'score': 0.8193758130073547}], [{'label': 'neutral', 'score': 0.8398932218551636}], [{'label': 'neutral', 'score': 0.806973934173584}], [{'label': 'neutral', 'score': 0.8688187003135681}], [{'label': 'negative', 'score': 0.5538885593414307}], [{'label': 'neutral', 'score': 0.9703869223594666}], [{'label': 'neutral', 'score': 0.5946407914161682}], [{'label': 'neutral', 'score': 0.6222440004348755}], [{'label': 'neutral', 'score': 0.7112323045730591}], [{'label': 'neutral', 'score': 0.9369431734085083}], [{'label': 'neutral', 'score': 0.922464907169342}], [{'label': 'neutral', 'score': 0.6305489540100098}], [{'label': 'neutral', 'score': 0.8130273222923279}], [{'label': 'neutral', 'score': 0.9607353806495667}], [{'label': 'neutral', 'score': 0.7916411757469177}], [{'label': 'neutral', 'score': 0.7092173099517822}], [{'label': 'neutral', 'score': 0.9524336457252502}], [{'label': 'neutral', 'score': 0.897904098033905}], [{'label': 'neutral', 'score': 0.952534556388855}], [{'label': 'neutral', 'score': 0.9426225423812866}], [{'label': 'neutral', 'score': 0.8807709813117981}], [{'label': 'positive', 'score': 0.42881324887275696}], [{'label': 'neutral', 'score': 0.9378140568733215}], [{'label': 'neutral', 'score': 0.837079644203186}], [{'label': 'neutral', 'score': 0.9004618525505066}], [{'label': 'neutral', 'score': 0.9499493837356567}], [{'label': 'neutral', 'score': 0.9691647887229919}], [{'label': 'neutral', 'score': 0.5130845904350281}], [{'label': 'neutral', 'score': 0.835320770740509}], [{'label': 'neutral', 'score': 0.6732874512672424}], [{'label': 'neutral', 'score': 0.5333565473556519}], [{'label': 'neutral', 'score': 0.9484160542488098}], [{'label': 'neutral', 'score': 0.9460435509681702}], [{'label': 'neutral', 'score': 0.8827467560768127}], [{'label': 'neutral', 'score': 0.9202719330787659}], [{'label': 'neutral', 'score': 0.8156912326812744}], [{'label': 'neutral', 'score': 0.9438905119895935}], [{'label': 'neutral', 'score': 0.6929445266723633}], [{'label': 'neutral', 'score': 0.9570645093917847}], [{'label': 'neutral', 'score': 0.7527203559875488}], [{'label': 'neutral', 'score': 0.5116199851036072}], [{'label': 'neutral', 'score': 0.5887571573257446}], [{'label': 'neutral', 'score': 0.8544872403144836}], [{'label': 'neutral', 'score': 0.9687009453773499}], [{'label': 'neutral', 'score': 0.939245879650116}], [{'label': 'neutral', 'score': 0.8288134932518005}], [{'label': 'neutral', 'score': 0.5259339213371277}], [{'label': 'neutral', 'score': 0.8835211992263794}], [{'label': 'neutral', 'score': 0.8052610158920288}], [{'label': 'neutral', 'score': 0.9490315914154053}], [{'label': 'neutral', 'score': 0.8282818794250488}], [{'label': 'neutral', 'score': 0.8481918573379517}], [{'label': 'neutral', 'score': 0.7542058229446411}], [{'label': 'neutral', 'score': 0.9667617082595825}], [{'label': 'neutral', 'score': 0.964409351348877}], [{'label': 'neutral', 'score': 0.8779461979866028}], [{'label': 'neutral', 'score': 0.5350939035415649}], [{'label': 'neutral', 'score': 0.9434934854507446}], [{'label': 'neutral', 'score': 0.6125990152359009}], [{'label': 'neutral', 'score': 0.8712941408157349}], [{'label': 'neutral', 'score': 0.7502053380012512}], [{'label': 'neutral', 'score': 0.5703158974647522}], [{'label': 'neutral', 'score': 0.7705788612365723}], [{'label': 'neutral', 'score': 0.8321949243545532}], [{'label': 'neutral', 'score': 0.8704591393470764}], [{'label': 'negative', 'score': 0.6560436487197876}], [{'label': 'neutral', 'score': 0.9401854276657104}], [{'label': 'neutral', 'score': 0.918616533279419}], [{'label': 'neutral', 'score': 0.908705472946167}], [{'label': 'neutral', 'score': 0.8969194889068604}], [{'label': 'neutral', 'score': 0.9624581336975098}], [{'label': 'neutral', 'score': 0.6299158334732056}], [{'label': 'neutral', 'score': 0.9293212890625}], [{'label': 'neutral', 'score': 0.9152934551239014}], [{'label': 'neutral', 'score': 0.9167404770851135}], [{'label': 'neutral', 'score': 0.9071694016456604}], [{'label': 'neutral', 'score': 0.6827810406684875}], [{'label': 'neutral', 'score': 0.7461129426956177}], [{'label': 'neutral', 'score': 0.9658714532852173}], [{'label': 'neutral', 'score': 0.9509131908416748}], [{'label': 'positive', 'score': 0.5804532170295715}], [{'label': 'neutral', 'score': 0.8032886385917664}], [{'label': 'neutral', 'score': 0.4580882489681244}], [{'label': 'neutral', 'score': 0.9582417011260986}], [{'label': 'neutral', 'score': 0.9173116087913513}], [{'label': 'neutral', 'score': 0.8210965394973755}], [{'label': 'neutral', 'score': 0.8106334209442139}], [{'label': 'neutral', 'score': 0.6141974925994873}], [{'label': 'neutral', 'score': 0.8958316445350647}], [{'label': 'neutral', 'score': 0.962067186832428}], [{'label': 'neutral', 'score': 0.7748525738716125}], [{'label': 'neutral', 'score': 0.6973090171813965}], [{'label': 'neutral', 'score': 0.6854543685913086}], [{'label': 'neutral', 'score': 0.7443520426750183}], [{'label': 'neutral', 'score': 0.7384189963340759}], [{'label': 'neutral', 'score': 0.9114667773246765}], [{'label': 'neutral', 'score': 0.9598800539970398}], [{'label': 'neutral', 'score': 0.7553024888038635}], [{'label': 'neutral', 'score': 0.935021162033081}], [{'label': 'neutral', 'score': 0.8279804587364197}], [{'label': 'neutral', 'score': 0.722373366355896}], [{'label': 'neutral', 'score': 0.9167719483375549}], [{'label': 'positive', 'score': 0.5416416525840759}], [{'label': 'neutral', 'score': 0.8866354823112488}], [{'label': 'neutral', 'score': 0.8375577330589294}], [{'label': 'neutral', 'score': 0.6524381637573242}], [{'label': 'neutral', 'score': 0.7763147950172424}]]\n"
          ]
        }
      ]
    },
    {
      "cell_type": "code",
      "source": [
        "# Función para mapear las etiquetas\n",
        "def map_label(label):\n",
        "    if label == 'positive':\n",
        "        return 1\n",
        "    elif label == 'neutral':\n",
        "        return 2\n",
        "    elif label == 'negative':\n",
        "        return 3\n",
        "    else:\n",
        "        return None"
      ],
      "metadata": {
        "id": "1igYpfQYFsyj"
      },
      "execution_count": null,
      "outputs": []
    },
    {
      "cell_type": "code",
      "source": [
        "# Mapear las etiquetas de los resultados\n",
        "mapeados = []\n",
        "for resultado in resultados:\n",
        "    etiqueta_original = resultado[0]['label']\n",
        "    etiqueta_mapeada = map_label(etiqueta_original)\n",
        "    mapeados.append(etiqueta_mapeada)"
      ],
      "metadata": {
        "id": "ZsZErmGYFwlP"
      },
      "execution_count": null,
      "outputs": []
    },
    {
      "cell_type": "code",
      "source": [
        "print(mapeados)"
      ],
      "metadata": {
        "colab": {
          "base_uri": "https://localhost:8080/"
        },
        "id": "wA_2DqgZFy6Y",
        "outputId": "b239f955-1048-47df-bb02-2d4dcb145c46"
      },
      "execution_count": null,
      "outputs": [
        {
          "output_type": "stream",
          "name": "stdout",
          "text": [
            "[2, 2, 2, 2, 2, 2, 2, 1, 1, 2, 2, 2, 2, 3, 2, 2, 2, 2, 2, 2, 2, 2, 1, 2, 2, 2, 2, 2, 3, 3, 3, 2, 2, 3, 2, 2, 3, 2, 3, 2, 2, 2, 2, 1, 2, 3, 2, 2, 2, 2, 2, 2, 3, 3, 1, 1, 1, 1, 2, 2, 2, 2, 2, 1, 2, 2, 2, 1, 2, 2, 1, 2, 2, 1, 1, 2, 2, 2, 1, 2, 2, 2, 1, 1, 2, 1, 1, 2, 1, 2, 2, 1, 3, 2, 2, 2, 2, 2, 2, 2, 2, 2, 2, 2, 2, 2, 2, 2, 2, 2, 1, 2, 2, 2, 2, 2, 2, 2, 2, 2, 3, 2, 2, 2, 2, 2, 2, 2, 2, 2, 2, 2, 2, 2, 2, 2, 2, 1, 2, 2, 2, 2, 2, 2, 2, 2, 2, 2, 2, 2, 2, 2, 2, 2, 2, 2, 2, 2, 2, 2, 2, 2, 2, 2, 2, 2, 2, 2, 2, 2, 2, 2, 2, 2, 2, 2, 2, 2, 2, 2, 2, 3, 2, 2, 2, 2, 2, 2, 2, 2, 2, 2, 2, 2, 2, 2, 1, 2, 2, 2, 2, 2, 2, 2, 2, 2, 2, 2, 2, 2, 2, 2, 2, 2, 2, 2, 2, 2, 1, 2, 2, 2, 2]\n"
          ]
        }
      ]
    },
    {
      "cell_type": "code",
      "source": [
        "from sklearn.metrics import classification_report\n",
        "\n",
        "y_true = datos_validacion['label']\n",
        "y_pred = mapeados\n",
        "\n",
        "print(classification_report(y_true, y_pred))"
      ],
      "metadata": {
        "colab": {
          "base_uri": "https://localhost:8080/"
        },
        "id": "VH8plUrWETXg",
        "outputId": "0feb3a62-a089-4e4d-9f50-712baeadb188"
      },
      "execution_count": null,
      "outputs": [
        {
          "output_type": "stream",
          "name": "stdout",
          "text": [
            "              precision    recall  f1-score   support\n",
            "\n",
            "           1       0.17      0.07      0.10        54\n",
            "           2       0.67      0.95      0.78       131\n",
            "           3       0.00      0.00      0.00        38\n",
            "\n",
            "    accuracy                           0.57       223\n",
            "   macro avg       0.28      0.34      0.29       223\n",
            "weighted avg       0.43      0.57      0.48       223\n",
            "\n"
          ]
        }
      ]
    },
    {
      "cell_type": "code",
      "source": [],
      "metadata": {
        "id": "CgOIowhnF7mL"
      },
      "execution_count": null,
      "outputs": []
    }
  ]
}